{
 "cells": [
  {
   "cell_type": "markdown",
   "metadata": {},
   "source": [
    "This notebook contains material taught in Keith McCormick's _Machine Learning & AI Foundations : Linear Regression_ course. The course was taught using IBM's SPSS statistical software. I implemented course lessons in Python, as core concepts are generally tool-agnostic, and I wanted to reaffirm my understanding of these concepts. Furthermore, the course syllabus served as a guide as to what other topics I would explore outside of the course."
   ]
  },
  {
   "cell_type": "markdown",
   "metadata": {},
   "source": [
    "# Simple Linear Regression"
   ]
  },
  {
   "cell_type": "code",
   "execution_count": 1,
   "metadata": {},
   "outputs": [],
   "source": [
    "import pandas as pd\n",
    "import matplotlib.pyplot as plt\n",
    "import numpy as np\n",
    "from sklearn.linear_model import LinearRegression\n",
    "import matplotlib.colors as mcolors\n",
    "import statsmodels.api as sm\n",
    "from statsmodels.formula.api import ols"
   ]
  },
  {
   "cell_type": "code",
   "execution_count": 2,
   "metadata": {},
   "outputs": [],
   "source": [
    "# Source : https://archive.ics.uci.edu/ml/index.php\n",
    "# contains over 500 datsets for machine learning purposes\n",
    "\n",
    "# run conda-forge for to retrieve dependencies\n",
    "first_file = pd.read_spss('Exercise Files/Resources/Auto MPG Modified.sav')"
   ]
  },
  {
   "cell_type": "code",
   "execution_count": 3,
   "metadata": {},
   "outputs": [
    {
     "data": {
      "text/html": [
       "<div>\n",
       "<style scoped>\n",
       "    .dataframe tbody tr th:only-of-type {\n",
       "        vertical-align: middle;\n",
       "    }\n",
       "\n",
       "    .dataframe tbody tr th {\n",
       "        vertical-align: top;\n",
       "    }\n",
       "\n",
       "    .dataframe thead th {\n",
       "        text-align: right;\n",
       "    }\n",
       "</style>\n",
       "<table border=\"1\" class=\"dataframe\">\n",
       "  <thead>\n",
       "    <tr style=\"text-align: right;\">\n",
       "      <th></th>\n",
       "      <th>mpg</th>\n",
       "      <th>cylinders</th>\n",
       "      <th>displacement</th>\n",
       "      <th>horsepower</th>\n",
       "      <th>weight</th>\n",
       "      <th>acceleration</th>\n",
       "      <th>model_year</th>\n",
       "      <th>origin</th>\n",
       "      <th>name</th>\n",
       "    </tr>\n",
       "  </thead>\n",
       "  <tbody>\n",
       "    <tr>\n",
       "      <th>0</th>\n",
       "      <td>18.0</td>\n",
       "      <td>8.0</td>\n",
       "      <td>307.0</td>\n",
       "      <td>130.0</td>\n",
       "      <td>3504.0</td>\n",
       "      <td>12.0</td>\n",
       "      <td>70.0</td>\n",
       "      <td>USA</td>\n",
       "      <td>chevrolet chevelle malibu</td>\n",
       "    </tr>\n",
       "    <tr>\n",
       "      <th>1</th>\n",
       "      <td>15.0</td>\n",
       "      <td>8.0</td>\n",
       "      <td>350.0</td>\n",
       "      <td>165.0</td>\n",
       "      <td>3693.0</td>\n",
       "      <td>11.5</td>\n",
       "      <td>70.0</td>\n",
       "      <td>USA</td>\n",
       "      <td>buick skylark 320</td>\n",
       "    </tr>\n",
       "    <tr>\n",
       "      <th>2</th>\n",
       "      <td>18.0</td>\n",
       "      <td>8.0</td>\n",
       "      <td>318.0</td>\n",
       "      <td>150.0</td>\n",
       "      <td>3436.0</td>\n",
       "      <td>11.0</td>\n",
       "      <td>70.0</td>\n",
       "      <td>USA</td>\n",
       "      <td>plymouth satellite</td>\n",
       "    </tr>\n",
       "    <tr>\n",
       "      <th>3</th>\n",
       "      <td>16.0</td>\n",
       "      <td>8.0</td>\n",
       "      <td>304.0</td>\n",
       "      <td>150.0</td>\n",
       "      <td>3433.0</td>\n",
       "      <td>12.0</td>\n",
       "      <td>70.0</td>\n",
       "      <td>USA</td>\n",
       "      <td>amc rebel sst</td>\n",
       "    </tr>\n",
       "    <tr>\n",
       "      <th>4</th>\n",
       "      <td>17.0</td>\n",
       "      <td>8.0</td>\n",
       "      <td>302.0</td>\n",
       "      <td>140.0</td>\n",
       "      <td>3449.0</td>\n",
       "      <td>10.5</td>\n",
       "      <td>70.0</td>\n",
       "      <td>USA</td>\n",
       "      <td>ford torino</td>\n",
       "    </tr>\n",
       "  </tbody>\n",
       "</table>\n",
       "</div>"
      ],
      "text/plain": [
       "    mpg  cylinders  displacement  horsepower  weight  acceleration  \\\n",
       "0  18.0        8.0         307.0       130.0  3504.0          12.0   \n",
       "1  15.0        8.0         350.0       165.0  3693.0          11.5   \n",
       "2  18.0        8.0         318.0       150.0  3436.0          11.0   \n",
       "3  16.0        8.0         304.0       150.0  3433.0          12.0   \n",
       "4  17.0        8.0         302.0       140.0  3449.0          10.5   \n",
       "\n",
       "   model_year origin                       name  \n",
       "0        70.0    USA  chevrolet chevelle malibu  \n",
       "1        70.0    USA          buick skylark 320  \n",
       "2        70.0    USA         plymouth satellite  \n",
       "3        70.0    USA              amc rebel sst  \n",
       "4        70.0    USA                ford torino  "
      ]
     },
     "execution_count": 3,
     "metadata": {},
     "output_type": "execute_result"
    }
   ],
   "source": [
    "first_file.head()"
   ]
  },
  {
   "cell_type": "markdown",
   "metadata": {},
   "source": [
    "__Goal__ : Let's predict mpg using the other variables (like weight)(label the colors with the origin variable)"
   ]
  },
  {
   "cell_type": "markdown",
   "metadata": {},
   "source": [
    "__How__ : Let's draw a scatter plot"
   ]
  },
  {
   "cell_type": "markdown",
   "metadata": {},
   "source": [
    "Different Types of Data:\n",
    "    - Scaled\n",
    "    - Nominal\n",
    "    - Ordinal"
   ]
  },
  {
   "cell_type": "markdown",
   "metadata": {},
   "source": [
    "__Regression__ : the search for relationships between observation's independent (inputs, predictors) and dependent (outputs, responses) variables. Used :\n",
    " - to show how several variables are related and\n",
    " - when wanting to forecast a response."
   ]
  },
  {
   "cell_type": "markdown",
   "metadata": {},
   "source": [
    "<img src='CalculatingSlopeAndIntercept.PNG'>"
   ]
  },
  {
   "cell_type": "markdown",
   "metadata": {},
   "source": [
    "The denominator is read as the sum of X squared, minus the mean of X multiplied by the sum of X. The most efficient way of calculating the sum of X squared in numpy is to calculate the dot product."
   ]
  },
  {
   "cell_type": "code",
   "execution_count": 4,
   "metadata": {},
   "outputs": [],
   "source": [
    "denominator = first_file['weight'].dot(first_file['weight']) - np.mean(first_file['weight']) * np.sum(first_file['weight'])"
   ]
  },
  {
   "cell_type": "code",
   "execution_count": 5,
   "metadata": {},
   "outputs": [
    {
     "data": {
      "text/plain": [
       "284704973.23869324"
      ]
     },
     "execution_count": 5,
     "metadata": {},
     "output_type": "execute_result"
    }
   ],
   "source": [
    "denominator"
   ]
  },
  {
   "cell_type": "markdown",
   "metadata": {},
   "source": [
    "<img src='LinearRegressionExplanation.PNG'>"
   ]
  },
  {
   "cell_type": "markdown",
   "metadata": {},
   "source": [
    "<img src='CoefficientOfDetermination.PNG'>"
   ]
  },
  {
   "cell_type": "markdown",
   "metadata": {},
   "source": [
    "__Simple or single-variate linear regression__ is the simplest case of linear regression with a single independent variable. __Multiple or multivariate linear regression__ is a case of linear regression with two or more independent variables."
   ]
  },
  {
   "cell_type": "markdown",
   "metadata": {},
   "source": [
    "__Underfitting__ occurs when a model can’t accurately capture the dependencies among data, usually as a consequence of its own simplicity. It often yields a low 𝑅² with known data and bad generalization capabilities when applied with new data."
   ]
  },
  {
   "cell_type": "markdown",
   "metadata": {},
   "source": [
    "__Overfitting__ happens when a model learns both dependencies among data and random fluctuations. In other words, a model learns the existing data too well. Complex models, which have many features or terms, are often prone to overfitting. When applied to known data, such models usually yield high 𝑅². However, they often don’t generalize well and have significantly lower 𝑅² when used with new data"
   ]
  },
  {
   "cell_type": "code",
   "execution_count": 6,
   "metadata": {},
   "outputs": [],
   "source": [
    "def simpleLinearRegressionPlot(predictors, response, xlabel='', ylabel = '', title='', c=None, s=None):\n",
    "    \n",
    "    \"\"\"\n",
    "    Creates a scatter plot and draws the line of best fit between the predictor and response variables.\n",
    "    \n",
    "    xlabel - the string you want displayed on the x-axis\n",
    "    \n",
    "    ylabel - the string you want displayed on the y-axis\n",
    "    \n",
    "    title - the string to appear as the title of the scatter plot\n",
    "    \n",
    "    c - sequence of colors to group observations\n",
    "    \n",
    "    s - the scalar that increase the size of the points on the scatter plot\n",
    "    \"\"\"\n",
    "    \n",
    "    x = np.array(predictors).reshape((-1,1))\n",
    "    y = response\n",
    "    \n",
    "    # represents the regression model\n",
    "    # calculates the optimal values of the regression coefficients (best predicted weights)\n",
    "    model = LinearRegression().fit(x,y)\n",
    "    \n",
    "    # returns R^2 value\n",
    "    coefficient_of_determination = model.score(x,y)\n",
    "    \n",
    "    # pass in the dependent variable to get the forecasted response\n",
    "    y_pred = model.predict(x)\n",
    "    \n",
    "    # prints R^2 value\n",
    "    print('coefficient of determination: ', coefficient_of_determination)\n",
    "\n",
    "    # prints y-intercept value\n",
    "    print('intercept: ', model.intercept_)\n",
    "\n",
    "    # prints the slope\n",
    "    print('slope: ', model.coef_[0])\n",
    "\n",
    "    fig, ax = plt.subplots()\n",
    "\n",
    "    # plots the independent variable, weight, and the dependent variable, mpg\n",
    "    ax.scatter(predictors, response, c=c, s=s)\n",
    "    \n",
    "    # plots line of best-fit\n",
    "    plt.plot(predictors, y_pred, 'r')\n",
    "    plt.xlabel(xlabel)\n",
    "    plt.ylabel(ylabel)\n",
    "    plt.title(title)"
   ]
  },
  {
   "cell_type": "code",
   "execution_count": 7,
   "metadata": {},
   "outputs": [
    {
     "name": "stdout",
     "output_type": "stream",
     "text": [
      "coefficient of determination:  0.6917929800341575\n",
      "intercept:  46.31736442026565\n",
      "slope:  -0.00767661006392647\n"
     ]
    },
    {
     "data": {
      "image/png": "[encoded data removed]",
      "text/plain": [
       "<Figure size 432x288 with 1 Axes>"
      ]
     },
     "metadata": {
      "needs_background": "light"
     },
     "output_type": "display_data"
    }
   ],
   "source": [
    "x = first_file['weight']\n",
    "y = first_file['mpg']\n",
    "simpleLinearRegressionPlot(x, y, 'weight', 'mpg', 'Scatterplot of Cars, MPG vs Weight')"
   ]
  },
  {
   "cell_type": "markdown",
   "metadata": {},
   "source": [
    "Source to learn about simple and multiple linear regression : https://realpython.com/linear-regression-in-python/"
   ]
  },
  {
   "cell_type": "markdown",
   "metadata": {},
   "source": [
    "# Ways to Plot the Scatter Plots to Show the Different Countries "
   ]
  },
  {
   "cell_type": "code",
   "execution_count": 8,
   "metadata": {},
   "outputs": [
    {
     "name": "stdout",
     "output_type": "stream",
     "text": [
      "coefficient of determination:  0.6917929800341575\n",
      "intercept:  46.31736442026565\n",
      "slope:  -0.00767661006392647\n"
     ]
    },
    {
     "data": {
      "image/png": "[encoded data removed]",
      "text/plain": [
       "<Figure size 432x288 with 1 Axes>"
      ]
     },
     "metadata": {
      "needs_background": "light"
     },
     "output_type": "display_data"
    }
   ],
   "source": [
    "# 1. Use the function created\n",
    "\n",
    "x = first_file['weight']\n",
    "y = first_file['mpg']\n",
    "\n",
    "# colormap\n",
    "colors = {'USA' : '#AA10BB',\n",
    "         'Japan' : 'green',\n",
    "          'Europe' : 'blue'}\n",
    "\n",
    "simpleLinearRegressionPlot(x, y, 'weight', 'mpg', 'Scatterplot of Cars, MPG vs Weight', first_file['origin'].map(colors))"
   ]
  },
  {
   "cell_type": "code",
   "execution_count": 9,
   "metadata": {},
   "outputs": [
    {
     "data": {
      "image/png": "[encoded data removed]",
      "text/plain": [
       "<Figure size 432x288 with 1 Axes>"
      ]
     },
     "metadata": {
      "needs_background": "light"
     },
     "output_type": "display_data"
    }
   ],
   "source": [
    "# 2. Use a for-loop\n",
    "\n",
    "fig, ax = plt.subplots()\n",
    "for country in first_file['origin'].unique():\n",
    "    selected_country = first_file[first_file['origin'] == country]\n",
    "    ax.scatter(selected_country['weight'], selected_country['mpg'])"
   ]
  },
  {
   "cell_type": "markdown",
   "metadata": {},
   "source": [
    "__Conclusion__ : European and Japanese cars tend to be lights. The heavier cars are American."
   ]
  },
  {
   "cell_type": "markdown",
   "metadata": {},
   "source": [
    "# Scatter Plots for Each Country"
   ]
  },
  {
   "cell_type": "code",
   "execution_count": 10,
   "metadata": {},
   "outputs": [
    {
     "name": "stdout",
     "output_type": "stream",
     "text": [
      "coefficient of determination:  0.7154511602813305\n",
      "intercept:  42.99227921626763\n",
      "slope:  -0.006814161303862454\n",
      "coefficient of determination:  0.3182160823395399\n",
      "intercept:  54.2601500605157\n",
      "slope:  -0.01071907916582082\n",
      "coefficient of determination:  0.2765081152785299\n",
      "intercept:  45.375796001306675\n",
      "slope:  -0.007215106437452277\n"
     ]
    },
    {
     "data": {
      "image/png": "[encoded data removed]",
      "text/plain": [
       "<Figure size 432x288 with 1 Axes>"
      ]
     },
     "metadata": {
      "needs_background": "light"
     },
     "output_type": "display_data"
    },
    {
     "data": {
      "image/png": "[encoded data removed]",
      "text/plain": [
       "<Figure size 432x288 with 1 Axes>"
      ]
     },
     "metadata": {
      "needs_background": "light"
     },
     "output_type": "display_data"
    },
    {
     "data": {
      "image/png": "[encoded data removed]",
      "text/plain": [
       "<Figure size 432x288 with 1 Axes>"
      ]
     },
     "metadata": {
      "needs_background": "light"
     },
     "output_type": "display_data"
    }
   ],
   "source": [
    "for country in first_file['origin'].unique():\n",
    "    selected_country = first_file[first_file['origin'] == country]\n",
    "    simpleLinearRegressionPlot(selected_country['weight'], selected_country['mpg'])"
   ]
  },
  {
   "cell_type": "markdown",
   "metadata": {},
   "source": [
    "Total variance = variance explained (by regression line) + variance unexplained\n",
    "\n",
    "r^2 = variance explained / total variance\n",
    "\n",
    "% variance explained = 100 * (variance explained / total variance)"
   ]
  },
  {
   "cell_type": "markdown",
   "metadata": {},
   "source": [
    "## Plotting Price vs Horsepower"
   ]
  },
  {
   "cell_type": "markdown",
   "metadata": {},
   "source": [
    "Let's plot this using a bubble chart, with engine_size adjusting the size of the bubble. Plotly can also be used to create bubble charts with more detailed information (column data can display on hover)."
   ]
  },
  {
   "cell_type": "code",
   "execution_count": 11,
   "metadata": {},
   "outputs": [],
   "source": [
    "automobile_data = pd.read_spss('Exercise Files/Resources/Auto Imports Scatter.sav')"
   ]
  },
  {
   "cell_type": "code",
   "execution_count": 12,
   "metadata": {},
   "outputs": [
    {
     "data": {
      "text/html": [
       "<div>\n",
       "<style scoped>\n",
       "    .dataframe tbody tr th:only-of-type {\n",
       "        vertical-align: middle;\n",
       "    }\n",
       "\n",
       "    .dataframe tbody tr th {\n",
       "        vertical-align: top;\n",
       "    }\n",
       "\n",
       "    .dataframe thead th {\n",
       "        text-align: right;\n",
       "    }\n",
       "</style>\n",
       "<table border=\"1\" class=\"dataframe\">\n",
       "  <thead>\n",
       "    <tr style=\"text-align: right;\">\n",
       "      <th></th>\n",
       "      <th>make</th>\n",
       "      <th>fueltype</th>\n",
       "      <th>aspiration</th>\n",
       "      <th>doors</th>\n",
       "      <th>body</th>\n",
       "      <th>drive</th>\n",
       "      <th>engine_loc</th>\n",
       "      <th>cylinder</th>\n",
       "      <th>engine_size</th>\n",
       "      <th>horsepower</th>\n",
       "      <th>peak_rpm</th>\n",
       "      <th>city_mpg</th>\n",
       "      <th>hwy_mpg</th>\n",
       "      <th>price</th>\n",
       "    </tr>\n",
       "  </thead>\n",
       "  <tbody>\n",
       "    <tr>\n",
       "      <th>0</th>\n",
       "      <td>alfa-romero</td>\n",
       "      <td>gas</td>\n",
       "      <td>std</td>\n",
       "      <td>two</td>\n",
       "      <td>convertible</td>\n",
       "      <td>rwd</td>\n",
       "      <td>front</td>\n",
       "      <td>four</td>\n",
       "      <td>130.0</td>\n",
       "      <td>111.0</td>\n",
       "      <td>5000.0</td>\n",
       "      <td>21.0</td>\n",
       "      <td>27.0</td>\n",
       "      <td>13495.0</td>\n",
       "    </tr>\n",
       "    <tr>\n",
       "      <th>1</th>\n",
       "      <td>audi</td>\n",
       "      <td>gas</td>\n",
       "      <td>std</td>\n",
       "      <td>four</td>\n",
       "      <td>sedan</td>\n",
       "      <td>fwd</td>\n",
       "      <td>front</td>\n",
       "      <td>four</td>\n",
       "      <td>109.0</td>\n",
       "      <td>102.0</td>\n",
       "      <td>5500.0</td>\n",
       "      <td>24.0</td>\n",
       "      <td>30.0</td>\n",
       "      <td>13950.0</td>\n",
       "    </tr>\n",
       "    <tr>\n",
       "      <th>2</th>\n",
       "      <td>bmw</td>\n",
       "      <td>gas</td>\n",
       "      <td>std</td>\n",
       "      <td>two</td>\n",
       "      <td>sedan</td>\n",
       "      <td>rwd</td>\n",
       "      <td>front</td>\n",
       "      <td>four</td>\n",
       "      <td>108.0</td>\n",
       "      <td>101.0</td>\n",
       "      <td>5800.0</td>\n",
       "      <td>23.0</td>\n",
       "      <td>29.0</td>\n",
       "      <td>16430.0</td>\n",
       "    </tr>\n",
       "  </tbody>\n",
       "</table>\n",
       "</div>"
      ],
      "text/plain": [
       "          make fueltype aspiration doors         body drive engine_loc  \\\n",
       "0  alfa-romero      gas        std   two  convertible   rwd      front   \n",
       "1         audi      gas        std  four        sedan   fwd      front   \n",
       "2          bmw      gas        std   two        sedan   rwd      front   \n",
       "\n",
       "  cylinder  engine_size  horsepower  peak_rpm  city_mpg  hwy_mpg    price  \n",
       "0     four        130.0       111.0    5000.0      21.0     27.0  13495.0  \n",
       "1     four        109.0       102.0    5500.0      24.0     30.0  13950.0  \n",
       "2     four        108.0       101.0    5800.0      23.0     29.0  16430.0  "
      ]
     },
     "execution_count": 12,
     "metadata": {},
     "output_type": "execute_result"
    }
   ],
   "source": [
    "automobile_data.head(3)"
   ]
  },
  {
   "cell_type": "code",
   "execution_count": 13,
   "metadata": {},
   "outputs": [
    {
     "name": "stdout",
     "output_type": "stream",
     "text": [
      "coefficient of determination:  0.7697315921021158\n",
      "intercept:  44.68601584431273\n",
      "slope:  0.004270471846124522\n"
     ]
    },
    {
     "data": {
      "image/png": "[encoded data removed]",
      "text/plain": [
       "<Figure size 432x288 with 1 Axes>"
      ]
     },
     "metadata": {
      "needs_background": "light"
     },
     "output_type": "display_data"
    }
   ],
   "source": [
    "x_col = 'price'\n",
    "y_col = 'horsepower'\n",
    "size_col = 'engine_size'\n",
    "title_formatting = '%s vs %s by %s' % (x_col.capitalize(), y_col.capitalize(), 'Engine Size')\n",
    "\n",
    "simpleLinearRegressionPlot(automobile_data[x_col], \n",
    "                           automobile_data[y_col], \n",
    "                           xlabel=x_col, \n",
    "                           ylabel=y_col, \n",
    "                           title = title_formatting, \n",
    "                           s=automobile_data[size_col]*1.5)"
   ]
  },
  {
   "cell_type": "code",
   "execution_count": 14,
   "metadata": {},
   "outputs": [
    {
     "data": {
      "image/png": "[encoded data removed]",
      "text/plain": [
       "<Figure size 864x576 with 1 Axes>"
      ]
     },
     "metadata": {
      "needs_background": "light"
     },
     "output_type": "display_data"
    }
   ],
   "source": [
    "# 2. Use a for-loop\n",
    "\n",
    "fig, ax = plt.subplots(figsize=(12,8))\n",
    "for make in automobile_data['make'].unique():\n",
    "    selected_country = automobile_data[automobile_data['make'] == make]\n",
    "    ax.scatter(selected_country[x_col], selected_country[y_col])\n",
    "    text = ax.annotate(make, (selected_country[x_col], selected_country[y_col]))\n",
    "    text.set_fontsize(15)"
   ]
  },
  {
   "cell_type": "markdown",
   "metadata": {},
   "source": [
    "__To be continued__"
   ]
  },
  {
   "cell_type": "markdown",
   "metadata": {},
   "source": [
    "R^2\n",
    "Slope\n",
    "Intercept"
   ]
  },
  {
   "cell_type": "code",
   "execution_count": 15,
   "metadata": {},
   "outputs": [],
   "source": [
    "# bank dataset where employees sued regarding fairness and pay\n",
    "mw_bank = pd.read_spss('Exercise Files/Resources/Case Study Data/MWBank.sav')"
   ]
  },
  {
   "cell_type": "code",
   "execution_count": 16,
   "metadata": {},
   "outputs": [
    {
     "data": {
      "text/html": [
       "<div>\n",
       "<style scoped>\n",
       "    .dataframe tbody tr th:only-of-type {\n",
       "        vertical-align: middle;\n",
       "    }\n",
       "\n",
       "    .dataframe tbody tr th {\n",
       "        vertical-align: top;\n",
       "    }\n",
       "\n",
       "    .dataframe thead th {\n",
       "        text-align: right;\n",
       "    }\n",
       "</style>\n",
       "<table border=\"1\" class=\"dataframe\">\n",
       "  <thead>\n",
       "    <tr style=\"text-align: right;\">\n",
       "      <th></th>\n",
       "      <th>id</th>\n",
       "      <th>salbeg</th>\n",
       "      <th>sex</th>\n",
       "      <th>time</th>\n",
       "      <th>age</th>\n",
       "      <th>salnow</th>\n",
       "      <th>edlevel</th>\n",
       "      <th>work</th>\n",
       "      <th>jobcat</th>\n",
       "      <th>minority</th>\n",
       "    </tr>\n",
       "  </thead>\n",
       "  <tbody>\n",
       "    <tr>\n",
       "      <th>0</th>\n",
       "      <td>697.0</td>\n",
       "      <td>16992.0</td>\n",
       "      <td>Males</td>\n",
       "      <td>85.0</td>\n",
       "      <td>43.0</td>\n",
       "      <td>27700.0</td>\n",
       "      <td>20.0</td>\n",
       "      <td>11.17</td>\n",
       "      <td>Technical</td>\n",
       "      <td>White</td>\n",
       "    </tr>\n",
       "    <tr>\n",
       "      <th>1</th>\n",
       "      <td>943.0</td>\n",
       "      <td>6300.0</td>\n",
       "      <td>Females</td>\n",
       "      <td>90.0</td>\n",
       "      <td>29.0</td>\n",
       "      <td>15120.0</td>\n",
       "      <td>16.0</td>\n",
       "      <td>0.58</td>\n",
       "      <td>College Trainee</td>\n",
       "      <td>White</td>\n",
       "    </tr>\n",
       "    <tr>\n",
       "      <th>2</th>\n",
       "      <td>1030.0</td>\n",
       "      <td>7800.0</td>\n",
       "      <td>Females</td>\n",
       "      <td>65.0</td>\n",
       "      <td>30.0</td>\n",
       "      <td>13764.0</td>\n",
       "      <td>16.0</td>\n",
       "      <td>6.58</td>\n",
       "      <td>College Trainee</td>\n",
       "      <td>White</td>\n",
       "    </tr>\n",
       "    <tr>\n",
       "      <th>3</th>\n",
       "      <td>777.0</td>\n",
       "      <td>9492.0</td>\n",
       "      <td>Males</td>\n",
       "      <td>78.0</td>\n",
       "      <td>38.0</td>\n",
       "      <td>15480.0</td>\n",
       "      <td>15.0</td>\n",
       "      <td>14.67</td>\n",
       "      <td>Exempt Employee</td>\n",
       "      <td>White</td>\n",
       "    </tr>\n",
       "    <tr>\n",
       "      <th>4</th>\n",
       "      <td>950.0</td>\n",
       "      <td>21000.0</td>\n",
       "      <td>Males</td>\n",
       "      <td>83.0</td>\n",
       "      <td>49.0</td>\n",
       "      <td>26700.0</td>\n",
       "      <td>16.0</td>\n",
       "      <td>21.50</td>\n",
       "      <td>Technical</td>\n",
       "      <td>White</td>\n",
       "    </tr>\n",
       "  </tbody>\n",
       "</table>\n",
       "</div>"
      ],
      "text/plain": [
       "       id   salbeg      sex  time   age   salnow  edlevel   work  \\\n",
       "0   697.0  16992.0    Males  85.0  43.0  27700.0     20.0  11.17   \n",
       "1   943.0   6300.0  Females  90.0  29.0  15120.0     16.0   0.58   \n",
       "2  1030.0   7800.0  Females  65.0  30.0  13764.0     16.0   6.58   \n",
       "3   777.0   9492.0    Males  78.0  38.0  15480.0     15.0  14.67   \n",
       "4   950.0  21000.0    Males  83.0  49.0  26700.0     16.0  21.50   \n",
       "\n",
       "            jobcat minority  \n",
       "0        Technical    White  \n",
       "1  College Trainee    White  \n",
       "2  College Trainee    White  \n",
       "3  Exempt Employee    White  \n",
       "4        Technical    White  "
      ]
     },
     "execution_count": 16,
     "metadata": {},
     "output_type": "execute_result"
    }
   ],
   "source": [
    "mw_bank.head()"
   ]
  },
  {
   "cell_type": "markdown",
   "metadata": {},
   "source": [
    "# Multiple Linear Regression"
   ]
  },
  {
   "cell_type": "code",
   "execution_count": 17,
   "metadata": {},
   "outputs": [],
   "source": [
    "# two observations did not have a values for sex, and were removed from the regression analysis\n",
    "mw_bank_refined = mw_bank[mw_bank['sex'].notna()]"
   ]
  },
  {
   "cell_type": "code",
   "execution_count": 18,
   "metadata": {},
   "outputs": [],
   "source": [
    "# dependent variables\n",
    "beginning_salary_list = np.array(mw_bank_refined['salbeg']).reshape((-1,1))\n",
    "\n",
    "# two independent variables\n",
    "education_level_list = mw_bank_refined['edlevel'].tolist()\n",
    "sex_list = mw_bank_refined['sex'].apply(lambda gender : 0 if gender == \"Males\" else 1).tolist()\n",
    "\n",
    "# there will be two slopes that appear in the coefficients section\n",
    "# the first slope will be education_level_list and the second level will be the sex\n",
    "combined_list = [list(a) for a in zip(education_level_list, sex_list)]\n",
    "combined_array = np.array(combined_list)"
   ]
  },
  {
   "cell_type": "code",
   "execution_count": 19,
   "metadata": {},
   "outputs": [],
   "source": [
    "model = LinearRegression().fit(combined_array, beginning_salary_list)"
   ]
  },
  {
   "cell_type": "code",
   "execution_count": 20,
   "metadata": {},
   "outputs": [
    {
     "name": "stdout",
     "output_type": "stream",
     "text": [
      "coefficient of determination:  0.46312905699604434\n",
      "intercept: [-433.30598847]\n",
      "slope: [[  592.77382354 -1655.90830381]]\n"
     ]
    }
   ],
   "source": [
    "r_sq = model.score(combined_array, beginning_salary_list)\n",
    "print('coefficient of determination: ', r_sq)\n",
    "print('intercept:', model.intercept_)\n",
    "print('slope:', model.coef_)"
   ]
  },
  {
   "cell_type": "code",
   "execution_count": 21,
   "metadata": {},
   "outputs": [],
   "source": [
    "y_pred = model.predict(combined_array)"
   ]
  },
  {
   "cell_type": "markdown",
   "metadata": {},
   "source": [
    "Conclusion : There was evidence there was bias in pay"
   ]
  },
  {
   "cell_type": "markdown",
   "metadata": {},
   "source": [
    "## Assumptions of Multiple Linear Regression with OLS"
   ]
  },
  {
   "cell_type": "markdown",
   "metadata": {},
   "source": [
    "__Multiple Linear Regression__: when we have one dependent variable but multiple independent variables"
   ]
  },
  {
   "cell_type": "markdown",
   "metadata": {},
   "source": [
    "<img src='SpecificationErrors.png'>"
   ]
  },
  {
   "cell_type": "markdown",
   "metadata": {},
   "source": [
    "## Summary\n",
    "\n",
    "1. Put all the relevant variables in the model\n",
    " - Check to see if the residuals plot shows a random pattern. (This is what we want).\n",
    " - Check for the presence of interactions.\n",
    "2. Leave the irrelevant variables out\n",
    " - Check for the significance of each independent variable(IV) and check the partial plots for each IV\n",
    "3. Need linear relationships\n",
    " - Use curve estimation and scatter plots to diagnose. Consder squaring one of the IVs. Add this new variable to the model.\n",
    "4. Residuals have a mean of zero\n",
    "5. Normality of Errors\n",
    " - Run Levene's test (or KS test) before building the model to check for normality of IV\n",
    " - check for the normality of residuals after building\n",
    " - check the mean error of the residuals (mean of zero)\n",
    "6. Multicollinearity\n",
    " - correlation matrix before building model\n",
    " - collinearity diagnostics after you model (variance inflation factor and tolerance)\n",
    "7. Serial autocorrelation (time series data)\n",
    "8. Durbin-Watson test\n",
    " - Time Series forecasting might be better than linear regression?"
   ]
  },
  {
   "cell_type": "markdown",
   "metadata": {},
   "source": [
    "_Regression Assumptions_\n",
    " - Residuals have a mean of zero (after running regression model)\n",
    " - Normality of errors (independent variables don't necessarily have to be normally distributed)\n",
    " - Residuals are not autocorrelated (Durbin-Watson, usually associated with time series data)\n",
    " - Need linear relationships\n",
    " - need more data than variables\n",
    " - No _excessive_ multicollinearity"
   ]
  },
  {
   "cell_type": "markdown",
   "metadata": {},
   "source": [
    "_Challenges of Multiple Regression (that didn't arise from simple linear regression)_\n",
    " - Visual Examination becomes more difficult (can't really see all variables in a single scatter plot)\n",
    " - multicollinearity (when independent variables are correlated with each other)\n",
    " - Interactions\n",
    " - Attributing importance to each variable\n",
    " - Juggling multiple problems at once (several variables have outliers)"
   ]
  },
  {
   "cell_type": "markdown",
   "metadata": {},
   "source": [
    "## Checking Assumptions Visually"
   ]
  },
  {
   "cell_type": "code",
   "execution_count": 22,
   "metadata": {},
   "outputs": [],
   "source": [
    "# dataset with amounts of municipal waste in tons, with land utilization\n",
    "# let's predict the amount of municipal waste each year based on how the land is used\n",
    "waste = pd.read_spss('Exercise Files/Resources/Case Study Data/Waste.sav')"
   ]
  },
  {
   "cell_type": "code",
   "execution_count": 23,
   "metadata": {},
   "outputs": [
    {
     "data": {
      "text/html": [
       "<div>\n",
       "<style scoped>\n",
       "    .dataframe tbody tr th:only-of-type {\n",
       "        vertical-align: middle;\n",
       "    }\n",
       "\n",
       "    .dataframe tbody tr th {\n",
       "        vertical-align: top;\n",
       "    }\n",
       "\n",
       "    .dataframe thead th {\n",
       "        text-align: right;\n",
       "    }\n",
       "</style>\n",
       "<table border=\"1\" class=\"dataframe\">\n",
       "  <thead>\n",
       "    <tr style=\"text-align: right;\">\n",
       "      <th></th>\n",
       "      <th>indust</th>\n",
       "      <th>metals</th>\n",
       "      <th>trucks</th>\n",
       "      <th>retail</th>\n",
       "      <th>restrnts</th>\n",
       "      <th>waste_tons</th>\n",
       "    </tr>\n",
       "  </thead>\n",
       "  <tbody>\n",
       "    <tr>\n",
       "      <th>0</th>\n",
       "      <td>102.0</td>\n",
       "      <td>69.0</td>\n",
       "      <td>133.0</td>\n",
       "      <td>125.0</td>\n",
       "      <td>36.0</td>\n",
       "      <td>357400.0</td>\n",
       "    </tr>\n",
       "    <tr>\n",
       "      <th>1</th>\n",
       "      <td>1220.0</td>\n",
       "      <td>723.0</td>\n",
       "      <td>2616.0</td>\n",
       "      <td>953.0</td>\n",
       "      <td>132.0</td>\n",
       "      <td>1967300.0</td>\n",
       "    </tr>\n",
       "    <tr>\n",
       "      <th>2</th>\n",
       "      <td>139.0</td>\n",
       "      <td>138.0</td>\n",
       "      <td>46.0</td>\n",
       "      <td>35.0</td>\n",
       "      <td>6.0</td>\n",
       "      <td>186200.0</td>\n",
       "    </tr>\n",
       "    <tr>\n",
       "      <th>3</th>\n",
       "      <td>221.0</td>\n",
       "      <td>637.0</td>\n",
       "      <td>153.0</td>\n",
       "      <td>115.0</td>\n",
       "      <td>16.0</td>\n",
       "      <td>381600.0</td>\n",
       "    </tr>\n",
       "    <tr>\n",
       "      <th>4</th>\n",
       "      <td>12.0</td>\n",
       "      <td>0.0</td>\n",
       "      <td>1.0</td>\n",
       "      <td>9.0</td>\n",
       "      <td>1.0</td>\n",
       "      <td>151200.0</td>\n",
       "    </tr>\n",
       "  </tbody>\n",
       "</table>\n",
       "</div>"
      ],
      "text/plain": [
       "   indust  metals  trucks  retail  restrnts  waste_tons\n",
       "0   102.0    69.0   133.0   125.0      36.0    357400.0\n",
       "1  1220.0   723.0  2616.0   953.0     132.0   1967300.0\n",
       "2   139.0   138.0    46.0    35.0       6.0    186200.0\n",
       "3   221.0   637.0   153.0   115.0      16.0    381600.0\n",
       "4    12.0     0.0     1.0     9.0       1.0    151200.0"
      ]
     },
     "execution_count": 23,
     "metadata": {},
     "output_type": "execute_result"
    }
   ],
   "source": [
    "waste.head()"
   ]
  },
  {
   "cell_type": "code",
   "execution_count": 24,
   "metadata": {},
   "outputs": [],
   "source": [
    "industrial_land = waste['indust']\n",
    "waste_in_tons = waste['waste_tons']"
   ]
  },
  {
   "cell_type": "code",
   "execution_count": 25,
   "metadata": {},
   "outputs": [
    {
     "name": "stdout",
     "output_type": "stream",
     "text": [
      "coefficient of determination:  0.03443022466034018\n",
      "intercept:  356591.645717393\n",
      "slope:  41.906578782946106\n"
     ]
    },
    {
     "data": {
      "image/png": "[encoded data removed]",
      "text/plain": [
       "<Figure size 432x288 with 1 Axes>"
      ]
     },
     "metadata": {
      "needs_background": "light"
     },
     "output_type": "display_data"
    }
   ],
   "source": [
    "simpleLinearRegressionPlot(industrial_land, waste_in_tons, \n",
    "                           'Industrial land (acres)', \n",
    "                           'Waste (in tons)', \n",
    "                           'Simple Scatter with Fit Line of Waste (tons) by Industrial Land (acres)')"
   ]
  },
  {
   "cell_type": "markdown",
   "metadata": {},
   "source": [
    "__Assumptions broken__\n",
    " - Variables are not normally distributed.\n",
    "  - There are many points on the left. Not many points in the middle. Normality is violated.\n",
    " - No linear relationships.\n",
    "  - There's a congregation of points stacked vertically\n",
    "  \n",
    "Note : Points of Industrial Land past 4000 seemed to pull the regression line in their direction. The regression line would appear to be more steep, otherwise."
   ]
  },
  {
   "cell_type": "code",
   "execution_count": 26,
   "metadata": {},
   "outputs": [
    {
     "data": {
      "text/html": [
       "<div>\n",
       "<style scoped>\n",
       "    .dataframe tbody tr th:only-of-type {\n",
       "        vertical-align: middle;\n",
       "    }\n",
       "\n",
       "    .dataframe tbody tr th {\n",
       "        vertical-align: top;\n",
       "    }\n",
       "\n",
       "    .dataframe thead th {\n",
       "        text-align: right;\n",
       "    }\n",
       "</style>\n",
       "<table border=\"1\" class=\"dataframe\">\n",
       "  <thead>\n",
       "    <tr style=\"text-align: right;\">\n",
       "      <th></th>\n",
       "      <th>indust</th>\n",
       "      <th>metals</th>\n",
       "      <th>trucks</th>\n",
       "      <th>retail</th>\n",
       "      <th>restrnts</th>\n",
       "      <th>waste_tons</th>\n",
       "    </tr>\n",
       "  </thead>\n",
       "  <tbody>\n",
       "    <tr>\n",
       "      <th>0</th>\n",
       "      <td>102.0</td>\n",
       "      <td>69.0</td>\n",
       "      <td>133.0</td>\n",
       "      <td>125.0</td>\n",
       "      <td>36.0</td>\n",
       "      <td>357400.0</td>\n",
       "    </tr>\n",
       "    <tr>\n",
       "      <th>1</th>\n",
       "      <td>1220.0</td>\n",
       "      <td>723.0</td>\n",
       "      <td>2616.0</td>\n",
       "      <td>953.0</td>\n",
       "      <td>132.0</td>\n",
       "      <td>1967300.0</td>\n",
       "    </tr>\n",
       "    <tr>\n",
       "      <th>2</th>\n",
       "      <td>139.0</td>\n",
       "      <td>138.0</td>\n",
       "      <td>46.0</td>\n",
       "      <td>35.0</td>\n",
       "      <td>6.0</td>\n",
       "      <td>186200.0</td>\n",
       "    </tr>\n",
       "    <tr>\n",
       "      <th>3</th>\n",
       "      <td>221.0</td>\n",
       "      <td>637.0</td>\n",
       "      <td>153.0</td>\n",
       "      <td>115.0</td>\n",
       "      <td>16.0</td>\n",
       "      <td>381600.0</td>\n",
       "    </tr>\n",
       "    <tr>\n",
       "      <th>4</th>\n",
       "      <td>12.0</td>\n",
       "      <td>0.0</td>\n",
       "      <td>1.0</td>\n",
       "      <td>9.0</td>\n",
       "      <td>1.0</td>\n",
       "      <td>151200.0</td>\n",
       "    </tr>\n",
       "  </tbody>\n",
       "</table>\n",
       "</div>"
      ],
      "text/plain": [
       "   indust  metals  trucks  retail  restrnts  waste_tons\n",
       "0   102.0    69.0   133.0   125.0      36.0    357400.0\n",
       "1  1220.0   723.0  2616.0   953.0     132.0   1967300.0\n",
       "2   139.0   138.0    46.0    35.0       6.0    186200.0\n",
       "3   221.0   637.0   153.0   115.0      16.0    381600.0\n",
       "4    12.0     0.0     1.0     9.0       1.0    151200.0"
      ]
     },
     "execution_count": 26,
     "metadata": {},
     "output_type": "execute_result"
    }
   ],
   "source": [
    "waste.head()"
   ]
  },
  {
   "cell_type": "code",
   "execution_count": 27,
   "metadata": {},
   "outputs": [
    {
     "data": {
      "image/png": "[encoded data removed]",
      "text/plain": [
       "<Figure size 1080x648 with 9 Axes>"
      ]
     },
     "metadata": {
      "needs_background": "light"
     },
     "output_type": "display_data"
    }
   ],
   "source": [
    "pd.plotting.scatter_matrix(waste[['retail','restrnts','waste_tons']], figsize=(15,9));"
   ]
  },
  {
   "cell_type": "markdown",
   "metadata": {},
   "source": [
    "__Observations:__\n",
    " - Restaurants and Retail land usage are more closely associated with each other than either of these independent variables are correlated with waste_tons."
   ]
  },
  {
   "cell_type": "code",
   "execution_count": 28,
   "metadata": {},
   "outputs": [
    {
     "data": {
      "text/html": [
       "<div>\n",
       "<style scoped>\n",
       "    .dataframe tbody tr th:only-of-type {\n",
       "        vertical-align: middle;\n",
       "    }\n",
       "\n",
       "    .dataframe tbody tr th {\n",
       "        vertical-align: top;\n",
       "    }\n",
       "\n",
       "    .dataframe thead th {\n",
       "        text-align: right;\n",
       "    }\n",
       "</style>\n",
       "<table border=\"1\" class=\"dataframe\">\n",
       "  <thead>\n",
       "    <tr style=\"text-align: right;\">\n",
       "      <th></th>\n",
       "      <th>indust</th>\n",
       "      <th>metals</th>\n",
       "      <th>trucks</th>\n",
       "      <th>retail</th>\n",
       "      <th>restrnts</th>\n",
       "      <th>waste_tons</th>\n",
       "    </tr>\n",
       "  </thead>\n",
       "  <tbody>\n",
       "    <tr>\n",
       "      <th>count</th>\n",
       "      <td>40.000000</td>\n",
       "      <td>40.000000</td>\n",
       "      <td>40.00000</td>\n",
       "      <td>40.000000</td>\n",
       "      <td>40.000000</td>\n",
       "      <td>4.000000e+01</td>\n",
       "    </tr>\n",
       "    <tr>\n",
       "      <th>mean</th>\n",
       "      <td>561.925000</td>\n",
       "      <td>148.875000</td>\n",
       "      <td>312.30000</td>\n",
       "      <td>120.700000</td>\n",
       "      <td>23.000000</td>\n",
       "      <td>3.801400e+05</td>\n",
       "    </tr>\n",
       "    <tr>\n",
       "      <th>std</th>\n",
       "      <td>1600.440651</td>\n",
       "      <td>371.798001</td>\n",
       "      <td>708.80648</td>\n",
       "      <td>184.541177</td>\n",
       "      <td>29.323133</td>\n",
       "      <td>3.614530e+05</td>\n",
       "    </tr>\n",
       "    <tr>\n",
       "      <th>min</th>\n",
       "      <td>0.000000</td>\n",
       "      <td>0.000000</td>\n",
       "      <td>1.00000</td>\n",
       "      <td>0.000000</td>\n",
       "      <td>0.000000</td>\n",
       "      <td>4.860000e+04</td>\n",
       "    </tr>\n",
       "    <tr>\n",
       "      <th>25%</th>\n",
       "      <td>4.750000</td>\n",
       "      <td>1.000000</td>\n",
       "      <td>24.75000</td>\n",
       "      <td>24.750000</td>\n",
       "      <td>4.000000</td>\n",
       "      <td>1.644000e+05</td>\n",
       "    </tr>\n",
       "    <tr>\n",
       "      <th>50%</th>\n",
       "      <td>70.500000</td>\n",
       "      <td>35.500000</td>\n",
       "      <td>92.50000</td>\n",
       "      <td>52.000000</td>\n",
       "      <td>11.000000</td>\n",
       "      <td>2.865500e+05</td>\n",
       "    </tr>\n",
       "    <tr>\n",
       "      <th>75%</th>\n",
       "      <td>224.000000</td>\n",
       "      <td>112.250000</td>\n",
       "      <td>248.25000</td>\n",
       "      <td>117.750000</td>\n",
       "      <td>33.000000</td>\n",
       "      <td>4.057500e+05</td>\n",
       "    </tr>\n",
       "    <tr>\n",
       "      <th>max</th>\n",
       "      <td>8983.000000</td>\n",
       "      <td>2046.000000</td>\n",
       "      <td>3719.00000</td>\n",
       "      <td>953.000000</td>\n",
       "      <td>132.000000</td>\n",
       "      <td>1.967300e+06</td>\n",
       "    </tr>\n",
       "  </tbody>\n",
       "</table>\n",
       "</div>"
      ],
      "text/plain": [
       "            indust       metals      trucks      retail    restrnts  \\\n",
       "count    40.000000    40.000000    40.00000   40.000000   40.000000   \n",
       "mean    561.925000   148.875000   312.30000  120.700000   23.000000   \n",
       "std    1600.440651   371.798001   708.80648  184.541177   29.323133   \n",
       "min       0.000000     0.000000     1.00000    0.000000    0.000000   \n",
       "25%       4.750000     1.000000    24.75000   24.750000    4.000000   \n",
       "50%      70.500000    35.500000    92.50000   52.000000   11.000000   \n",
       "75%     224.000000   112.250000   248.25000  117.750000   33.000000   \n",
       "max    8983.000000  2046.000000  3719.00000  953.000000  132.000000   \n",
       "\n",
       "         waste_tons  \n",
       "count  4.000000e+01  \n",
       "mean   3.801400e+05  \n",
       "std    3.614530e+05  \n",
       "min    4.860000e+04  \n",
       "25%    1.644000e+05  \n",
       "50%    2.865500e+05  \n",
       "75%    4.057500e+05  \n",
       "max    1.967300e+06  "
      ]
     },
     "execution_count": 28,
     "metadata": {},
     "output_type": "execute_result"
    }
   ],
   "source": [
    "waste.describe()"
   ]
  },
  {
   "cell_type": "code",
   "execution_count": 29,
   "metadata": {},
   "outputs": [
    {
     "data": {
      "text/plain": [
       "mean    561.925\n",
       "50%      70.500\n",
       "Name: indust, dtype: float64"
      ]
     },
     "execution_count": 29,
     "metadata": {},
     "output_type": "execute_result"
    }
   ],
   "source": [
    "waste.describe().loc[['mean', '50%'], 'indust']"
   ]
  },
  {
   "cell_type": "markdown",
   "metadata": {},
   "source": [
    "__Observations:__\n",
    " - From the descriptive statistics, we can see industrial land is skewed because the mean is a magnitude larger than the mean."
   ]
  },
  {
   "cell_type": "markdown",
   "metadata": {},
   "source": [
    "__Note:__ can also create stem-and-leaf plots to explore data further"
   ]
  },
  {
   "cell_type": "code",
   "execution_count": 30,
   "metadata": {},
   "outputs": [
    {
     "data": {
      "image/png": "[encoded data removed]",
      "text/plain": [
       "<Figure size 432x288 with 1 Axes>"
      ]
     },
     "metadata": {
      "needs_background": "light"
     },
     "output_type": "display_data"
    }
   ],
   "source": [
    "# box plot of waste in tons\n",
    "plt.boxplot(waste['waste_tons']);"
   ]
  },
  {
   "cell_type": "markdown",
   "metadata": {},
   "source": [
    "## Durbin Watson\n",
    "\n",
    " - A test to check for autocorrelation (aka serial correlation) in the residuals\n",
    " - Typically a problem with stock data or economic data\n",
    " - A value of 2 means no autocorrelation\n",
    " - A value between 1.5 and 2.5 is ideal\n",
    " - Values from 0 to less than 2 indicate positive autocorrelation and values from from 2 to 4 indicate negative autocorrelation.\n",
    " - Investopedia Example - A stock price displaying positive autocorrelation would indicate that the price yesterday has a positive correlation on the price today—so if the stock fell yesterday, it is also likely that it falls today. A security that has a negative autocorrelation, on the other hand, has a negative influence on itself over time—so that if it fell yesterday, there is a greater likelihood it will rise today. In order to avoid autocorrelation issues, the easiest solution in finance is to simply convert a series of historical prices into a series of percentage-price changes from day to day.\n",
    "  - when lagged dependent variables are included in the explanatory variables, then it is inappropriate to use this test."
   ]
  },
  {
   "cell_type": "code",
   "execution_count": 31,
   "metadata": {},
   "outputs": [],
   "source": [
    "# statsmodels also has a way to calculate this statistic quickly\n",
    "# from statsmodels.regression.linear_model import OLS"
   ]
  },
  {
   "cell_type": "code",
   "execution_count": 32,
   "metadata": {},
   "outputs": [],
   "source": [
    "def calcDurbinWatsonStatistic(predictors,response):\n",
    "    x = np.array(predictors).reshape((-1,1))\n",
    "    y = response\n",
    "    \n",
    "    # represents the regression model\n",
    "    # calculates the optimal values of the regression coefficients (best predicted weights)\n",
    "    model = LinearRegression().fit(x,y)\n",
    "    \n",
    "    # pass in the dependent variable to get the forecasted response\n",
    "    y_pred = model.predict(x)\n",
    "    \n",
    "    # the differences of the actual \"y\" values versus the expected \"y\" values, the errors, are calculated\n",
    "    errors = response - y_pred\n",
    "    \n",
    "    # the errors are squared and summed\n",
    "    squared_and_summed = np.sum(errors**2)\n",
    "    \n",
    "    # the value of the error minus the previous error are calculated\n",
    "    error_difference = errors - errors.shift(1)\n",
    "    \n",
    "    # square the differences and then sum them\n",
    "    sum_of_difference_squared = np.sum(error_difference**2)\n",
    "    \n",
    "    # then they are summed\n",
    "    return sum_of_difference_squared / squared_and_summed"
   ]
  },
  {
   "cell_type": "code",
   "execution_count": 33,
   "metadata": {},
   "outputs": [
    {
     "data": {
      "text/plain": [
       "2.774069071361063"
      ]
     },
     "execution_count": 33,
     "metadata": {},
     "output_type": "execute_result"
    }
   ],
   "source": [
    "original_example_data = [(10,1100),(20,1200),(35,985),(40,750),(50,1215),(45,1000)]\n",
    "example_df = pd.DataFrame(original_example_data, columns=['predictors','response'])\n",
    "calcDurbinWatsonStatistic(example_df['predictors'], example_df['response'])"
   ]
  },
  {
   "cell_type": "markdown",
   "metadata": {},
   "source": [
    "## Levene's Test (Kolmogorov-Smirnov test)\n",
    "\n",
    " - to check for normality\n",
    " - not only for regression\n",
    " - 0 means we reject the null hypothesis the assumption was met\n",
    " - Kolmogorov-Smirnov(KS) test(more common) vs Shapiro-Wilk(alternative version)\n",
    " - When viewing a normal Q-Q(Quartile-Quartile) plot, the data points would fall on the line if the data were normally distributed\n",
    " - In real-world projects, proceed to the next step, but proceed with caution"
   ]
  },
  {
   "cell_type": "code",
   "execution_count": 34,
   "metadata": {},
   "outputs": [],
   "source": [
    "from scipy.stats import kstest"
   ]
  },
  {
   "cell_type": "code",
   "execution_count": 35,
   "metadata": {},
   "outputs": [
    {
     "data": {
      "text/plain": [
       "KstestResult(statistic=0.8272498680518208, pvalue=9.262203358104046e-31)"
      ]
     },
     "execution_count": 35,
     "metadata": {},
     "output_type": "execute_result"
    }
   ],
   "source": [
    "# returns the test statistic and p-value for the Kolmogorov-Smirnov test which is used to test whether \n",
    "# or not or not a sample comes from a certain distribution.\n",
    "kstest(waste['indust'],'norm')"
   ]
  },
  {
   "cell_type": "code",
   "execution_count": 36,
   "metadata": {},
   "outputs": [],
   "source": [
    "# prints whether the independent variables come from a normal distribution using the Kolmogorov-Smirnov test\n",
    "def normalDistributionReport(df):\n",
    "    for col in df.columns:\n",
    "        result = kstest(df[col], 'norm')\n",
    "        yes_no = 'bob'\n",
    "        # reject the null hypothesis that the data came from a normal distribution\n",
    "        if result[1] < .05:\n",
    "            yes_no = 'no'\n",
    "        else:\n",
    "            yes_no = 'yes'\n",
    "        print(\"Test statistics is %s. The p-value is %s. Is the data normally distributed: %s\" % (result[0], result[1], yes_no))"
   ]
  },
  {
   "cell_type": "code",
   "execution_count": 37,
   "metadata": {},
   "outputs": [
    {
     "name": "stdout",
     "output_type": "stream",
     "text": [
      "Test statistics is 0.8272498680518208. The p-value is 9.262203358104046e-31. Is the data normally distributed: no\n",
      "Test statistics is 0.6772498680518209. The p-value is 1.0806432759499155e-18. Is the data normally distributed: no\n",
      "Test statistics is 0.9522498680518208. The p-value is 2.884118073896372e-53. Is the data normally distributed: no\n",
      "Test statistics is 0.9749999990134123. The p-value is 1.6543638365840226e-64. Is the data normally distributed: no\n",
      "Test statistics is 0.9022498680518208. The p-value is 8.078177860533307e-41. Is the data normally distributed: no\n",
      "Test statistics is 1.0. The p-value is 0.0. Is the data normally distributed: no\n"
     ]
    }
   ],
   "source": [
    "normalDistributionReport(waste)"
   ]
  },
  {
   "cell_type": "markdown",
   "metadata": {},
   "source": [
    "### Q-Q Plot Visualization"
   ]
  },
  {
   "cell_type": "code",
   "execution_count": 38,
   "metadata": {},
   "outputs": [
    {
     "data": {
      "image/png": "[encoded data removed]",
      "text/plain": [
       "<Figure size 432x288 with 1 Axes>"
      ]
     },
     "metadata": {
      "needs_background": "light"
     },
     "output_type": "display_data"
    }
   ],
   "source": [
    "sm.qqplot(waste['indust'], line='45')\n",
    "plt.show()"
   ]
  },
  {
   "cell_type": "code",
   "execution_count": 39,
   "metadata": {},
   "outputs": [],
   "source": [
    "# if the data was normally distributed, the results would've fallen on the line."
   ]
  },
  {
   "cell_type": "code",
   "execution_count": 40,
   "metadata": {},
   "outputs": [
    {
     "data": {
      "image/png": "[encoded data removed]",
      "text/plain": [
       "<Figure size 432x288 with 1 Axes>"
      ]
     },
     "metadata": {
      "needs_background": "light"
     },
     "output_type": "display_data"
    }
   ],
   "source": [
    "# this is what the Q-Q plot of a roughly normal distribution would look like\n",
    "data_points = np.random.normal(0,1,100)\n",
    "sm.qqplot(data_points, line='45')\n",
    "plt.show()"
   ]
  },
  {
   "cell_type": "markdown",
   "metadata": {},
   "source": [
    "## Correlation Matrix"
   ]
  },
  {
   "cell_type": "code",
   "execution_count": 41,
   "metadata": {},
   "outputs": [
    {
     "data": {
      "text/html": [
       "<div>\n",
       "<style scoped>\n",
       "    .dataframe tbody tr th:only-of-type {\n",
       "        vertical-align: middle;\n",
       "    }\n",
       "\n",
       "    .dataframe tbody tr th {\n",
       "        vertical-align: top;\n",
       "    }\n",
       "\n",
       "    .dataframe thead th {\n",
       "        text-align: right;\n",
       "    }\n",
       "</style>\n",
       "<table border=\"1\" class=\"dataframe\">\n",
       "  <thead>\n",
       "    <tr style=\"text-align: right;\">\n",
       "      <th></th>\n",
       "      <th>indust</th>\n",
       "      <th>metals</th>\n",
       "      <th>trucks</th>\n",
       "      <th>retail</th>\n",
       "      <th>restrnts</th>\n",
       "      <th>waste_tons</th>\n",
       "    </tr>\n",
       "  </thead>\n",
       "  <tbody>\n",
       "    <tr>\n",
       "      <th>indust</th>\n",
       "      <td>1.000000</td>\n",
       "      <td>0.393163</td>\n",
       "      <td>0.423561</td>\n",
       "      <td>0.137772</td>\n",
       "      <td>0.233448</td>\n",
       "      <td>0.185554</td>\n",
       "    </tr>\n",
       "    <tr>\n",
       "      <th>metals</th>\n",
       "      <td>0.393163</td>\n",
       "      <td>1.000000</td>\n",
       "      <td>0.892612</td>\n",
       "      <td>0.281951</td>\n",
       "      <td>0.198881</td>\n",
       "      <td>0.483217</td>\n",
       "    </tr>\n",
       "    <tr>\n",
       "      <th>trucks</th>\n",
       "      <td>0.423561</td>\n",
       "      <td>0.892612</td>\n",
       "      <td>1.000000</td>\n",
       "      <td>0.467130</td>\n",
       "      <td>0.384050</td>\n",
       "      <td>0.643409</td>\n",
       "    </tr>\n",
       "    <tr>\n",
       "      <th>retail</th>\n",
       "      <td>0.137772</td>\n",
       "      <td>0.281951</td>\n",
       "      <td>0.467130</td>\n",
       "      <td>1.000000</td>\n",
       "      <td>0.919851</td>\n",
       "      <td>0.767578</td>\n",
       "    </tr>\n",
       "    <tr>\n",
       "      <th>restrnts</th>\n",
       "      <td>0.233448</td>\n",
       "      <td>0.198881</td>\n",
       "      <td>0.384050</td>\n",
       "      <td>0.919851</td>\n",
       "      <td>1.000000</td>\n",
       "      <td>0.822864</td>\n",
       "    </tr>\n",
       "    <tr>\n",
       "      <th>waste_tons</th>\n",
       "      <td>0.185554</td>\n",
       "      <td>0.483217</td>\n",
       "      <td>0.643409</td>\n",
       "      <td>0.767578</td>\n",
       "      <td>0.822864</td>\n",
       "      <td>1.000000</td>\n",
       "    </tr>\n",
       "  </tbody>\n",
       "</table>\n",
       "</div>"
      ],
      "text/plain": [
       "              indust    metals    trucks    retail  restrnts  waste_tons\n",
       "indust      1.000000  0.393163  0.423561  0.137772  0.233448    0.185554\n",
       "metals      0.393163  1.000000  0.892612  0.281951  0.198881    0.483217\n",
       "trucks      0.423561  0.892612  1.000000  0.467130  0.384050    0.643409\n",
       "retail      0.137772  0.281951  0.467130  1.000000  0.919851    0.767578\n",
       "restrnts    0.233448  0.198881  0.384050  0.919851  1.000000    0.822864\n",
       "waste_tons  0.185554  0.483217  0.643409  0.767578  0.822864    1.000000"
      ]
     },
     "execution_count": 41,
     "metadata": {},
     "output_type": "execute_result"
    }
   ],
   "source": [
    "# returns the correlation matrix\n",
    "waste.corr()"
   ]
  },
  {
   "cell_type": "code",
   "execution_count": 42,
   "metadata": {},
   "outputs": [
    {
     "data": {
      "text/html": [
       "<div>\n",
       "<style scoped>\n",
       "    .dataframe tbody tr th:only-of-type {\n",
       "        vertical-align: middle;\n",
       "    }\n",
       "\n",
       "    .dataframe tbody tr th {\n",
       "        vertical-align: top;\n",
       "    }\n",
       "\n",
       "    .dataframe thead th {\n",
       "        text-align: right;\n",
       "    }\n",
       "</style>\n",
       "<table border=\"1\" class=\"dataframe\">\n",
       "  <thead>\n",
       "    <tr style=\"text-align: right;\">\n",
       "      <th></th>\n",
       "      <th>indust</th>\n",
       "      <th>metals</th>\n",
       "      <th>trucks</th>\n",
       "      <th>retail</th>\n",
       "      <th>restrnts</th>\n",
       "      <th>waste_tons</th>\n",
       "    </tr>\n",
       "  </thead>\n",
       "  <tbody>\n",
       "    <tr>\n",
       "      <th>indust</th>\n",
       "      <td>1.000000</td>\n",
       "      <td>0.154577</td>\n",
       "      <td>0.179404</td>\n",
       "      <td>0.018981</td>\n",
       "      <td>0.054498</td>\n",
       "      <td>0.034430</td>\n",
       "    </tr>\n",
       "    <tr>\n",
       "      <th>metals</th>\n",
       "      <td>0.154577</td>\n",
       "      <td>1.000000</td>\n",
       "      <td>0.796756</td>\n",
       "      <td>0.079496</td>\n",
       "      <td>0.039554</td>\n",
       "      <td>0.233498</td>\n",
       "    </tr>\n",
       "    <tr>\n",
       "      <th>trucks</th>\n",
       "      <td>0.179404</td>\n",
       "      <td>0.796756</td>\n",
       "      <td>1.000000</td>\n",
       "      <td>0.218210</td>\n",
       "      <td>0.147494</td>\n",
       "      <td>0.413975</td>\n",
       "    </tr>\n",
       "    <tr>\n",
       "      <th>retail</th>\n",
       "      <td>0.018981</td>\n",
       "      <td>0.079496</td>\n",
       "      <td>0.218210</td>\n",
       "      <td>1.000000</td>\n",
       "      <td>0.846127</td>\n",
       "      <td>0.589175</td>\n",
       "    </tr>\n",
       "    <tr>\n",
       "      <th>restrnts</th>\n",
       "      <td>0.054498</td>\n",
       "      <td>0.039554</td>\n",
       "      <td>0.147494</td>\n",
       "      <td>0.846127</td>\n",
       "      <td>1.000000</td>\n",
       "      <td>0.677105</td>\n",
       "    </tr>\n",
       "    <tr>\n",
       "      <th>waste_tons</th>\n",
       "      <td>0.034430</td>\n",
       "      <td>0.233498</td>\n",
       "      <td>0.413975</td>\n",
       "      <td>0.589175</td>\n",
       "      <td>0.677105</td>\n",
       "      <td>1.000000</td>\n",
       "    </tr>\n",
       "  </tbody>\n",
       "</table>\n",
       "</div>"
      ],
      "text/plain": [
       "              indust    metals    trucks    retail  restrnts  waste_tons\n",
       "indust      1.000000  0.154577  0.179404  0.018981  0.054498    0.034430\n",
       "metals      0.154577  1.000000  0.796756  0.079496  0.039554    0.233498\n",
       "trucks      0.179404  0.796756  1.000000  0.218210  0.147494    0.413975\n",
       "retail      0.018981  0.079496  0.218210  1.000000  0.846127    0.589175\n",
       "restrnts    0.054498  0.039554  0.147494  0.846127  1.000000    0.677105\n",
       "waste_tons  0.034430  0.233498  0.413975  0.589175  0.677105    1.000000"
      ]
     },
     "execution_count": 42,
     "metadata": {},
     "output_type": "execute_result"
    }
   ],
   "source": [
    "# r^2 values\n",
    "waste.corr()**2"
   ]
  },
  {
   "cell_type": "markdown",
   "metadata": {},
   "source": [
    "Squaring these coefficients would yield the r^2 values for running linear regression between each of the variables"
   ]
  },
  {
   "cell_type": "markdown",
   "metadata": {},
   "source": [
    "__Observations__ : Strongest correlation with waste tons is restaurants. Second-best predictor is retail trade. Weakest predictor is industrial land. Trucking and fabricated metals are highly correlated (multi-collinearity problem). This means the information in trucking is redundant with the metals information. Retail and restaurants are also highly correlated. We don't know how these variables will interact with each other during a multiple linear regression."
   ]
  },
  {
   "cell_type": "markdown",
   "metadata": {},
   "source": [
    "## Residuals Plot"
   ]
  },
  {
   "cell_type": "code",
   "execution_count": 43,
   "metadata": {},
   "outputs": [
    {
     "data": {
      "text/plain": [
       "Index(['id', 'salbeg', 'sex', 'time', 'age', 'salnow', 'edlevel', 'work',\n",
       "       'jobcat', 'minority'],\n",
       "      dtype='object')"
      ]
     },
     "execution_count": 43,
     "metadata": {},
     "output_type": "execute_result"
    }
   ],
   "source": [
    "mw_bank.columns"
   ]
  },
  {
   "cell_type": "code",
   "execution_count": 44,
   "metadata": {},
   "outputs": [],
   "source": [
    "model = ols('salbeg ~ edlevel', data=mw_bank).fit()"
   ]
  },
  {
   "cell_type": "code",
   "execution_count": 45,
   "metadata": {},
   "outputs": [
    {
     "name": "stdout",
     "output_type": "stream",
     "text": [
      "                            OLS Regression Results                            \n",
      "==============================================================================\n",
      "Dep. Variable:                 salbeg   R-squared:                       0.401\n",
      "Model:                            OLS   Adj. R-squared:                  0.400\n",
      "Method:                 Least Squares   F-statistic:                     315.9\n",
      "Date:                Tue, 12 Jan 2021   Prob (F-statistic):           1.76e-54\n",
      "Time:                        17:00:08   Log-Likelihood:                -4368.5\n",
      "No. Observations:                 474   AIC:                             8741.\n",
      "Df Residuals:                     472   BIC:                             8749.\n",
      "Df Model:                           1                                         \n",
      "Covariance Type:            nonrobust                                         \n",
      "==============================================================================\n",
      "                 coef    std err          t      P>|t|      [0.025      0.975]\n",
      "------------------------------------------------------------------------------\n",
      "Intercept  -2516.3869    536.368     -4.692      0.000   -3570.351   -1462.423\n",
      "edlevel      691.0113     38.879     17.773      0.000     614.614     767.408\n",
      "==============================================================================\n",
      "Omnibus:                      346.497   Durbin-Watson:                   1.406\n",
      "Prob(Omnibus):                  0.000   Jarque-Bera (JB):             6564.617\n",
      "Skew:                           2.948   Prob(JB):                         0.00\n",
      "Kurtosis:                      20.252   Cond. No.                         66.4\n",
      "==============================================================================\n",
      "\n",
      "Warnings:\n",
      "[1] Standard Errors assume that the covariance matrix of the errors is correctly specified.\n"
     ]
    }
   ],
   "source": [
    "print(model.summary())"
   ]
  },
  {
   "cell_type": "code",
   "execution_count": 46,
   "metadata": {},
   "outputs": [
    {
     "data": {
      "image/png": "[encoded data removed]",
      "text/plain": [
       "<Figure size 864x576 with 4 Axes>"
      ]
     },
     "metadata": {
      "needs_background": "light"
     },
     "output_type": "display_data"
    }
   ],
   "source": [
    "fig = plt.figure(figsize=(12,8))\n",
    "\n",
    "# the regressor refers to the independent variable\n",
    "fig = sm.graphics.plot_regress_exog(model, 'edlevel', fig=fig)"
   ]
  },
  {
   "cell_type": "markdown",
   "metadata": {},
   "source": [
    "__Observations__: Look at the graph in the bottom left hand corner. If this was a symmetric residuals plot, we'd have a large cluster of dots around zero (average error). This shows our residuals are heteroskedastic. There's something systematic about the errors."
   ]
  },
  {
   "cell_type": "markdown",
   "metadata": {},
   "source": [
    "# Dummy Code and Interaction Terms"
   ]
  },
  {
   "cell_type": "markdown",
   "metadata": {},
   "source": [
    "## Dummy Code\n",
    "\n",
    "An issue that happens in the majority of regressions. Occurs when you have a categorical variable. You can't feed this directly into your regression. If you have 4 categories, you have to create 4 new variables (marked true and false, or 1 and 0, respectively)."
   ]
  },
  {
   "cell_type": "markdown",
   "metadata": {},
   "source": [
    "When dummy coding and running the regressions, leave one dummy variable out (otherwise, you'll have perfect multicollinearity). The beta of the constant represents the dummy variable left out. The other beta values are in relation to this dummy variable."
   ]
  },
  {
   "cell_type": "code",
   "execution_count": 47,
   "metadata": {},
   "outputs": [],
   "source": [
    "mw_bank_w_dummies = pd.get_dummies(mw_bank, columns=['jobcat'])"
   ]
  },
  {
   "cell_type": "code",
   "execution_count": 48,
   "metadata": {},
   "outputs": [
    {
     "data": {
      "text/html": [
       "<div>\n",
       "<style scoped>\n",
       "    .dataframe tbody tr th:only-of-type {\n",
       "        vertical-align: middle;\n",
       "    }\n",
       "\n",
       "    .dataframe tbody tr th {\n",
       "        vertical-align: top;\n",
       "    }\n",
       "\n",
       "    .dataframe thead th {\n",
       "        text-align: right;\n",
       "    }\n",
       "</style>\n",
       "<table border=\"1\" class=\"dataframe\">\n",
       "  <thead>\n",
       "    <tr style=\"text-align: right;\">\n",
       "      <th></th>\n",
       "      <th>id</th>\n",
       "      <th>salbeg</th>\n",
       "      <th>sex</th>\n",
       "      <th>time</th>\n",
       "      <th>age</th>\n",
       "      <th>salnow</th>\n",
       "      <th>edlevel</th>\n",
       "      <th>work</th>\n",
       "      <th>minority</th>\n",
       "      <th>jobcat_Clerical</th>\n",
       "      <th>jobcat_College Trainee</th>\n",
       "      <th>jobcat_Exempt Employee</th>\n",
       "      <th>jobcat_MBA Trainee</th>\n",
       "      <th>jobcat_Office Trainee</th>\n",
       "      <th>jobcat_Security Officer</th>\n",
       "      <th>jobcat_Technical</th>\n",
       "    </tr>\n",
       "  </thead>\n",
       "  <tbody>\n",
       "    <tr>\n",
       "      <th>0</th>\n",
       "      <td>697.0</td>\n",
       "      <td>16992.0</td>\n",
       "      <td>Males</td>\n",
       "      <td>85.0</td>\n",
       "      <td>43.0</td>\n",
       "      <td>27700.0</td>\n",
       "      <td>20.0</td>\n",
       "      <td>11.17</td>\n",
       "      <td>White</td>\n",
       "      <td>0</td>\n",
       "      <td>0</td>\n",
       "      <td>0</td>\n",
       "      <td>0</td>\n",
       "      <td>0</td>\n",
       "      <td>0</td>\n",
       "      <td>1</td>\n",
       "    </tr>\n",
       "    <tr>\n",
       "      <th>1</th>\n",
       "      <td>943.0</td>\n",
       "      <td>6300.0</td>\n",
       "      <td>Females</td>\n",
       "      <td>90.0</td>\n",
       "      <td>29.0</td>\n",
       "      <td>15120.0</td>\n",
       "      <td>16.0</td>\n",
       "      <td>0.58</td>\n",
       "      <td>White</td>\n",
       "      <td>0</td>\n",
       "      <td>1</td>\n",
       "      <td>0</td>\n",
       "      <td>0</td>\n",
       "      <td>0</td>\n",
       "      <td>0</td>\n",
       "      <td>0</td>\n",
       "    </tr>\n",
       "    <tr>\n",
       "      <th>2</th>\n",
       "      <td>1030.0</td>\n",
       "      <td>7800.0</td>\n",
       "      <td>Females</td>\n",
       "      <td>65.0</td>\n",
       "      <td>30.0</td>\n",
       "      <td>13764.0</td>\n",
       "      <td>16.0</td>\n",
       "      <td>6.58</td>\n",
       "      <td>White</td>\n",
       "      <td>0</td>\n",
       "      <td>1</td>\n",
       "      <td>0</td>\n",
       "      <td>0</td>\n",
       "      <td>0</td>\n",
       "      <td>0</td>\n",
       "      <td>0</td>\n",
       "    </tr>\n",
       "    <tr>\n",
       "      <th>3</th>\n",
       "      <td>777.0</td>\n",
       "      <td>9492.0</td>\n",
       "      <td>Males</td>\n",
       "      <td>78.0</td>\n",
       "      <td>38.0</td>\n",
       "      <td>15480.0</td>\n",
       "      <td>15.0</td>\n",
       "      <td>14.67</td>\n",
       "      <td>White</td>\n",
       "      <td>0</td>\n",
       "      <td>0</td>\n",
       "      <td>1</td>\n",
       "      <td>0</td>\n",
       "      <td>0</td>\n",
       "      <td>0</td>\n",
       "      <td>0</td>\n",
       "    </tr>\n",
       "    <tr>\n",
       "      <th>4</th>\n",
       "      <td>950.0</td>\n",
       "      <td>21000.0</td>\n",
       "      <td>Males</td>\n",
       "      <td>83.0</td>\n",
       "      <td>49.0</td>\n",
       "      <td>26700.0</td>\n",
       "      <td>16.0</td>\n",
       "      <td>21.50</td>\n",
       "      <td>White</td>\n",
       "      <td>0</td>\n",
       "      <td>0</td>\n",
       "      <td>0</td>\n",
       "      <td>0</td>\n",
       "      <td>0</td>\n",
       "      <td>0</td>\n",
       "      <td>1</td>\n",
       "    </tr>\n",
       "  </tbody>\n",
       "</table>\n",
       "</div>"
      ],
      "text/plain": [
       "       id   salbeg      sex  time   age   salnow  edlevel   work minority  \\\n",
       "0   697.0  16992.0    Males  85.0  43.0  27700.0     20.0  11.17    White   \n",
       "1   943.0   6300.0  Females  90.0  29.0  15120.0     16.0   0.58    White   \n",
       "2  1030.0   7800.0  Females  65.0  30.0  13764.0     16.0   6.58    White   \n",
       "3   777.0   9492.0    Males  78.0  38.0  15480.0     15.0  14.67    White   \n",
       "4   950.0  21000.0    Males  83.0  49.0  26700.0     16.0  21.50    White   \n",
       "\n",
       "   jobcat_Clerical  jobcat_College Trainee  jobcat_Exempt Employee  \\\n",
       "0                0                       0                       0   \n",
       "1                0                       1                       0   \n",
       "2                0                       1                       0   \n",
       "3                0                       0                       1   \n",
       "4                0                       0                       0   \n",
       "\n",
       "   jobcat_MBA Trainee  jobcat_Office Trainee  jobcat_Security Officer  \\\n",
       "0                   0                      0                        0   \n",
       "1                   0                      0                        0   \n",
       "2                   0                      0                        0   \n",
       "3                   0                      0                        0   \n",
       "4                   0                      0                        0   \n",
       "\n",
       "   jobcat_Technical  \n",
       "0                 1  \n",
       "1                 0  \n",
       "2                 0  \n",
       "3                 0  \n",
       "4                 1  "
      ]
     },
     "execution_count": 48,
     "metadata": {},
     "output_type": "execute_result"
    }
   ],
   "source": [
    "mw_bank_w_dummies.head()"
   ]
  },
  {
   "cell_type": "code",
   "execution_count": 49,
   "metadata": {},
   "outputs": [],
   "source": [
    "mw_bank_w_dummies.rename(columns = {'jobcat_College Trainee' : 'jobcat_College_Trainee',\n",
    "                                   'jobcat_Exempt Employee' : 'jobcat_Exempt_Employee',\n",
    "                                   'jobcat_MBA Trainee' : 'jobcat_MBA_Trainee',\n",
    "                                   'jobcat_Office Trainee' : 'jobcat_Office_Trainee',\n",
    "                                   'jobcat_Security Officer' : 'jobcat_Security_Officer'}, inplace=True)"
   ]
  },
  {
   "cell_type": "code",
   "execution_count": 50,
   "metadata": {},
   "outputs": [],
   "source": [
    "# using all, but one, of the dummy variables (leaving out jobcat_Technical)\n",
    "model = ols(\"salbeg ~ jobcat_Clerical + jobcat_College_Trainee + jobcat_Exempt_Employee + jobcat_MBA_Trainee + jobcat_Office_Trainee + jobcat_Security_Officer\", \n",
    "            mw_bank_w_dummies).fit()"
   ]
  },
  {
   "cell_type": "code",
   "execution_count": 51,
   "metadata": {},
   "outputs": [
    {
     "name": "stdout",
     "output_type": "stream",
     "text": [
      "                            OLS Regression Results                            \n",
      "==============================================================================\n",
      "Dep. Variable:                 salbeg   R-squared:                       0.743\n",
      "Model:                            OLS   Adj. R-squared:                  0.739\n",
      "Method:                 Least Squares   F-statistic:                     224.6\n",
      "Date:                Tue, 12 Jan 2021   Prob (F-statistic):          3.40e-134\n",
      "Time:                        17:00:09   Log-Likelihood:                -4168.3\n",
      "No. Observations:                 474   AIC:                             8351.\n",
      "Df Residuals:                     467   BIC:                             8380.\n",
      "Df Model:                           6                                         \n",
      "Covariance Type:            nonrobust                                         \n",
      "===========================================================================================\n",
      "                              coef    std err          t      P>|t|      [0.025      0.975]\n",
      "-------------------------------------------------------------------------------------------\n",
      "Intercept                    2e+04    656.155     30.474      0.000    1.87e+04    2.13e+04\n",
      "jobcat_Clerical         -1.426e+04    664.770    -21.454      0.000   -1.56e+04    -1.3e+04\n",
      "jobcat_College_Trainee  -1.004e+04    702.528    -14.291      0.000   -1.14e+04   -8659.005\n",
      "jobcat_Exempt_Employee  -6737.1250    715.029     -9.422      0.000   -8142.197   -5332.053\n",
      "jobcat_MBA_Trainee      -7158.4000    973.235     -7.355      0.000   -9070.863   -5245.937\n",
      "jobcat_Office_Trainee   -1.452e+04    670.473    -21.652      0.000   -1.58e+04   -1.32e+04\n",
      "jobcat_Security_Officer -1.396e+04    725.407    -19.251      0.000   -1.54e+04   -1.25e+04\n",
      "==============================================================================\n",
      "Omnibus:                      225.087   Durbin-Watson:                   1.291\n",
      "Prob(Omnibus):                  0.000   Jarque-Bera (JB):             2988.525\n",
      "Skew:                           1.699   Prob(JB):                         0.00\n",
      "Kurtosis:                      14.822   Cond. No.                         27.9\n",
      "==============================================================================\n",
      "\n",
      "Warnings:\n",
      "[1] Standard Errors assume that the covariance matrix of the errors is correctly specified.\n"
     ]
    }
   ],
   "source": [
    "print(model.summary())"
   ]
  },
  {
   "cell_type": "markdown",
   "metadata": {},
   "source": [
    "__Observation__ : 2000 (2e+04) for the coefficient of the intercept represents the salary of the tech folks (technically, it refers to the jobcat_Technical variable we left out). Since all of the other dummy variables are associated with negative coefficients, we know the tech workers get paid the most."
   ]
  },
  {
   "cell_type": "markdown",
   "metadata": {},
   "source": [
    "## Interaction Terms"
   ]
  },
  {
   "cell_type": "code",
   "execution_count": 52,
   "metadata": {},
   "outputs": [],
   "source": [
    "color = {'Males':'blue',\n",
    "        'Females':'red'}"
   ]
  },
  {
   "cell_type": "code",
   "execution_count": 53,
   "metadata": {},
   "outputs": [
    {
     "name": "stdout",
     "output_type": "stream",
     "text": [
      "Gender:  Males\n",
      "coefficient of determination:  0.39059287903590484\n",
      "intercept:  -2912.081249012421\n",
      "slope:  764.5503524698374\n",
      "Gender:  Females\n",
      "coefficient of determination:  0.23363555130063765\n",
      "intercept:  2202.1388547828997\n",
      "slope:  246.0959928563456\n"
     ]
    },
    {
     "data": {
      "image/png": "[encoded data removed]",
      "text/plain": [
       "<Figure size 432x288 with 1 Axes>"
      ]
     },
     "metadata": {
      "needs_background": "light"
     },
     "output_type": "display_data"
    }
   ],
   "source": [
    "# 2. Use a for-loop\n",
    "\n",
    "fig, ax = plt.subplots()\n",
    "for gender in mw_bank_refined['sex'].unique():\n",
    "    selected_gender = mw_bank_refined[mw_bank_refined['sex'] == gender]\n",
    "    \n",
    "    x = np.array(selected_gender['edlevel']).reshape((-1,1))\n",
    "    y = selected_gender['salbeg']\n",
    "    \n",
    "    # represents the regression model\n",
    "    # calculates the optimal values of the regression coefficients (best predicted weights)\n",
    "    model = LinearRegression().fit(x,y)\n",
    "    \n",
    "    # returns R^2 value\n",
    "    coefficient_of_determination = model.score(x,y)\n",
    "    \n",
    "    # pass in the dependent variable to get the forecasted response\n",
    "    y_pred = model.predict(x)\n",
    "    \n",
    "    # prints which of the unique values we're looking at\n",
    "    print(\"Gender: \", gender)\n",
    "    \n",
    "    # prints R^2 value\n",
    "    print('coefficient of determination: ', coefficient_of_determination)\n",
    "\n",
    "    # prints y-intercept value\n",
    "    print('intercept: ', model.intercept_)\n",
    "\n",
    "    # prints the slope\n",
    "    print('slope: ', model.coef_[0])\n",
    "    \n",
    "    ax.scatter(selected_gender['edlevel'], selected_gender['salbeg'])\n",
    "    \n",
    "    \n",
    "    # plots line of best-fit\n",
    "    plt.plot(selected_gender['edlevel'], y_pred, 'r', color = color[gender])\n",
    "    plt.xlabel('edlevel')\n",
    "    plt.ylabel('salbeg')\n",
    "    plt.title('Beginning Salary Plotted Against Education Level')"
   ]
  },
  {
   "cell_type": "markdown",
   "metadata": {},
   "source": [
    "__Observation__ : There's an interaction when the slope of the blue line is not the same as the slope of the red line. The gap between the lines are not uniform. The impact of education on salary depends on another variable, sex."
   ]
  },
  {
   "cell_type": "markdown",
   "metadata": {},
   "source": [
    "### Creating and Testing Interaction Terms"
   ]
  },
  {
   "cell_type": "markdown",
   "metadata": {},
   "source": [
    "Create another variable that multiplies education and sex. This will be highly correlated with the education variable. An approach to this problem is called \"centering.\""
   ]
  },
  {
   "cell_type": "code",
   "execution_count": 54,
   "metadata": {},
   "outputs": [
    {
     "name": "stderr",
     "output_type": "stream",
     "text": [
      "C:\\Users\\leona\\anaconda3\\lib\\site-packages\\ipykernel_launcher.py:1: SettingWithCopyWarning: \n",
      "A value is trying to be set on a copy of a slice from a DataFrame.\n",
      "Try using .loc[row_indexer,col_indexer] = value instead\n",
      "\n",
      "See the caveats in the documentation: https://pandas.pydata.org/pandas-docs/stable/user_guide/indexing.html#returning-a-view-versus-a-copy\n",
      "  \"\"\"Entry point for launching an IPython kernel.\n"
     ]
    }
   ],
   "source": [
    "mw_bank_refined['educ_cen'] = mw_bank_refined['edlevel'] - np.average(mw_bank_refined['edlevel'])"
   ]
  },
  {
   "cell_type": "code",
   "execution_count": 55,
   "metadata": {},
   "outputs": [
    {
     "name": "stderr",
     "output_type": "stream",
     "text": [
      "C:\\Users\\leona\\anaconda3\\lib\\site-packages\\ipykernel_launcher.py:1: SettingWithCopyWarning: \n",
      "A value is trying to be set on a copy of a slice from a DataFrame.\n",
      "Try using .loc[row_indexer,col_indexer] = value instead\n",
      "\n",
      "See the caveats in the documentation: https://pandas.pydata.org/pandas-docs/stable/user_guide/indexing.html#returning-a-view-versus-a-copy\n",
      "  \"\"\"Entry point for launching an IPython kernel.\n"
     ]
    }
   ],
   "source": [
    "mw_bank_refined['sex_num'] = mw_bank_refined['sex'].apply(lambda gender : 0 if gender == \"Males\" else 1).astype(int)"
   ]
  },
  {
   "cell_type": "code",
   "execution_count": 56,
   "metadata": {},
   "outputs": [
    {
     "name": "stderr",
     "output_type": "stream",
     "text": [
      "C:\\Users\\leona\\anaconda3\\lib\\site-packages\\ipykernel_launcher.py:1: SettingWithCopyWarning: \n",
      "A value is trying to be set on a copy of a slice from a DataFrame.\n",
      "Try using .loc[row_indexer,col_indexer] = value instead\n",
      "\n",
      "See the caveats in the documentation: https://pandas.pydata.org/pandas-docs/stable/user_guide/indexing.html#returning-a-view-versus-a-copy\n",
      "  \"\"\"Entry point for launching an IPython kernel.\n"
     ]
    }
   ],
   "source": [
    "mw_bank_refined['ed_sex'] = mw_bank_refined['educ_cen'] * mw_bank_refined['sex_num']"
   ]
  },
  {
   "cell_type": "code",
   "execution_count": 57,
   "metadata": {},
   "outputs": [
    {
     "data": {
      "text/html": [
       "<div>\n",
       "<style scoped>\n",
       "    .dataframe tbody tr th:only-of-type {\n",
       "        vertical-align: middle;\n",
       "    }\n",
       "\n",
       "    .dataframe tbody tr th {\n",
       "        vertical-align: top;\n",
       "    }\n",
       "\n",
       "    .dataframe thead th {\n",
       "        text-align: right;\n",
       "    }\n",
       "</style>\n",
       "<table border=\"1\" class=\"dataframe\">\n",
       "  <thead>\n",
       "    <tr style=\"text-align: right;\">\n",
       "      <th></th>\n",
       "      <th>id</th>\n",
       "      <th>salbeg</th>\n",
       "      <th>sex</th>\n",
       "      <th>time</th>\n",
       "      <th>age</th>\n",
       "      <th>salnow</th>\n",
       "      <th>edlevel</th>\n",
       "      <th>work</th>\n",
       "      <th>jobcat</th>\n",
       "      <th>minority</th>\n",
       "      <th>educ_cen</th>\n",
       "      <th>sex_num</th>\n",
       "      <th>ed_sex</th>\n",
       "    </tr>\n",
       "  </thead>\n",
       "  <tbody>\n",
       "    <tr>\n",
       "      <th>0</th>\n",
       "      <td>697.0</td>\n",
       "      <td>16992.0</td>\n",
       "      <td>Males</td>\n",
       "      <td>85.0</td>\n",
       "      <td>43.0</td>\n",
       "      <td>27700.0</td>\n",
       "      <td>20.0</td>\n",
       "      <td>11.17</td>\n",
       "      <td>Technical</td>\n",
       "      <td>White</td>\n",
       "      <td>6.5</td>\n",
       "      <td>0</td>\n",
       "      <td>0.0</td>\n",
       "    </tr>\n",
       "    <tr>\n",
       "      <th>1</th>\n",
       "      <td>943.0</td>\n",
       "      <td>6300.0</td>\n",
       "      <td>Females</td>\n",
       "      <td>90.0</td>\n",
       "      <td>29.0</td>\n",
       "      <td>15120.0</td>\n",
       "      <td>16.0</td>\n",
       "      <td>0.58</td>\n",
       "      <td>College Trainee</td>\n",
       "      <td>White</td>\n",
       "      <td>2.5</td>\n",
       "      <td>1</td>\n",
       "      <td>2.5</td>\n",
       "    </tr>\n",
       "    <tr>\n",
       "      <th>2</th>\n",
       "      <td>1030.0</td>\n",
       "      <td>7800.0</td>\n",
       "      <td>Females</td>\n",
       "      <td>65.0</td>\n",
       "      <td>30.0</td>\n",
       "      <td>13764.0</td>\n",
       "      <td>16.0</td>\n",
       "      <td>6.58</td>\n",
       "      <td>College Trainee</td>\n",
       "      <td>White</td>\n",
       "      <td>2.5</td>\n",
       "      <td>1</td>\n",
       "      <td>2.5</td>\n",
       "    </tr>\n",
       "    <tr>\n",
       "      <th>3</th>\n",
       "      <td>777.0</td>\n",
       "      <td>9492.0</td>\n",
       "      <td>Males</td>\n",
       "      <td>78.0</td>\n",
       "      <td>38.0</td>\n",
       "      <td>15480.0</td>\n",
       "      <td>15.0</td>\n",
       "      <td>14.67</td>\n",
       "      <td>Exempt Employee</td>\n",
       "      <td>White</td>\n",
       "      <td>1.5</td>\n",
       "      <td>0</td>\n",
       "      <td>0.0</td>\n",
       "    </tr>\n",
       "    <tr>\n",
       "      <th>4</th>\n",
       "      <td>950.0</td>\n",
       "      <td>21000.0</td>\n",
       "      <td>Males</td>\n",
       "      <td>83.0</td>\n",
       "      <td>49.0</td>\n",
       "      <td>26700.0</td>\n",
       "      <td>16.0</td>\n",
       "      <td>21.50</td>\n",
       "      <td>Technical</td>\n",
       "      <td>White</td>\n",
       "      <td>2.5</td>\n",
       "      <td>0</td>\n",
       "      <td>0.0</td>\n",
       "    </tr>\n",
       "  </tbody>\n",
       "</table>\n",
       "</div>"
      ],
      "text/plain": [
       "       id   salbeg      sex  time   age   salnow  edlevel   work  \\\n",
       "0   697.0  16992.0    Males  85.0  43.0  27700.0     20.0  11.17   \n",
       "1   943.0   6300.0  Females  90.0  29.0  15120.0     16.0   0.58   \n",
       "2  1030.0   7800.0  Females  65.0  30.0  13764.0     16.0   6.58   \n",
       "3   777.0   9492.0    Males  78.0  38.0  15480.0     15.0  14.67   \n",
       "4   950.0  21000.0    Males  83.0  49.0  26700.0     16.0  21.50   \n",
       "\n",
       "            jobcat minority  educ_cen  sex_num  ed_sex  \n",
       "0        Technical    White       6.5        0     0.0  \n",
       "1  College Trainee    White       2.5        1     2.5  \n",
       "2  College Trainee    White       2.5        1     2.5  \n",
       "3  Exempt Employee    White       1.5        0     0.0  \n",
       "4        Technical    White       2.5        0     0.0  "
      ]
     },
     "execution_count": 57,
     "metadata": {},
     "output_type": "execute_result"
    }
   ],
   "source": [
    "mw_bank_refined.head()"
   ]
  },
  {
   "cell_type": "code",
   "execution_count": 58,
   "metadata": {},
   "outputs": [],
   "source": [
    "model = ols(\"salbeg ~ educ_cen + sex_num + ed_sex\", mw_bank_refined).fit()"
   ]
  },
  {
   "cell_type": "code",
   "execution_count": 59,
   "metadata": {},
   "outputs": [
    {
     "name": "stdout",
     "output_type": "stream",
     "text": [
      "                            OLS Regression Results                            \n",
      "==============================================================================\n",
      "Dep. Variable:                 salbeg   R-squared:                       0.507\n",
      "Model:                            OLS   Adj. R-squared:                  0.503\n",
      "Method:                 Least Squares   F-statistic:                     160.2\n",
      "Date:                Tue, 12 Jan 2021   Prob (F-statistic):           1.98e-71\n",
      "Time:                        17:00:10   Log-Likelihood:                -4304.5\n",
      "No. Observations:                 472   AIC:                             8617.\n",
      "Df Residuals:                     468   BIC:                             8634.\n",
      "Df Model:                           3                                         \n",
      "Covariance Type:            nonrobust                                         \n",
      "==============================================================================\n",
      "                 coef    std err          t      P>|t|      [0.025      0.975]\n",
      "------------------------------------------------------------------------------\n",
      "Intercept   7409.3485    144.771     51.180      0.000    7124.867    7693.830\n",
      "educ_cen     764.5504     46.466     16.454      0.000     673.243     855.857\n",
      "sex_num    -1884.9138    222.384     -8.476      0.000   -2321.909   -1447.919\n",
      "ed_sex      -518.4544     80.724     -6.423      0.000    -677.081    -359.827\n",
      "==============================================================================\n",
      "Omnibus:                      373.636   Durbin-Watson:                   1.503\n",
      "Prob(Omnibus):                  0.000   Jarque-Bera (JB):             9407.664\n",
      "Skew:                           3.197   Prob(JB):                         0.00\n",
      "Kurtosis:                      23.916   Cond. No.                         7.49\n",
      "==============================================================================\n",
      "\n",
      "Warnings:\n",
      "[1] Standard Errors assume that the covariance matrix of the errors is correctly specified.\n"
     ]
    }
   ],
   "source": [
    "print(model.summary())"
   ]
  },
  {
   "cell_type": "markdown",
   "metadata": {},
   "source": [
    "__Observation__ : We created an interaction variable, ed_sex, which was found to be significant, given a p-value of close to zero. We have now confirmed in the regression output what we saw in the scatterplot."
   ]
  },
  {
   "cell_type": "markdown",
   "metadata": {},
   "source": [
    "## Three Regression Strategies"
   ]
  },
  {
   "cell_type": "markdown",
   "metadata": {},
   "source": [
    "1. Hierarchical\n",
    "2. Simultaneous\n",
    "3. Stepwise"
   ]
  },
  {
   "cell_type": "markdown",
   "metadata": {},
   "source": [
    "<img src='ThreeRegressionStrategies.PNG'>"
   ]
  },
  {
   "cell_type": "markdown",
   "metadata": {},
   "source": [
    "### Understanding partial correlations"
   ]
  },
  {
   "cell_type": "code",
   "execution_count": 60,
   "metadata": {},
   "outputs": [
    {
     "data": {
      "text/html": [
       "<div>\n",
       "<style scoped>\n",
       "    .dataframe tbody tr th:only-of-type {\n",
       "        vertical-align: middle;\n",
       "    }\n",
       "\n",
       "    .dataframe tbody tr th {\n",
       "        vertical-align: top;\n",
       "    }\n",
       "\n",
       "    .dataframe thead th {\n",
       "        text-align: right;\n",
       "    }\n",
       "</style>\n",
       "<table border=\"1\" class=\"dataframe\">\n",
       "  <thead>\n",
       "    <tr style=\"text-align: right;\">\n",
       "      <th></th>\n",
       "      <th>indust</th>\n",
       "      <th>metals</th>\n",
       "      <th>trucks</th>\n",
       "      <th>retail</th>\n",
       "      <th>restrnts</th>\n",
       "      <th>waste_tons</th>\n",
       "    </tr>\n",
       "  </thead>\n",
       "  <tbody>\n",
       "    <tr>\n",
       "      <th>indust</th>\n",
       "      <td>1.000000</td>\n",
       "      <td>0.393163</td>\n",
       "      <td>0.423561</td>\n",
       "      <td>0.137772</td>\n",
       "      <td>0.233448</td>\n",
       "      <td>0.185554</td>\n",
       "    </tr>\n",
       "    <tr>\n",
       "      <th>metals</th>\n",
       "      <td>0.393163</td>\n",
       "      <td>1.000000</td>\n",
       "      <td>0.892612</td>\n",
       "      <td>0.281951</td>\n",
       "      <td>0.198881</td>\n",
       "      <td>0.483217</td>\n",
       "    </tr>\n",
       "    <tr>\n",
       "      <th>trucks</th>\n",
       "      <td>0.423561</td>\n",
       "      <td>0.892612</td>\n",
       "      <td>1.000000</td>\n",
       "      <td>0.467130</td>\n",
       "      <td>0.384050</td>\n",
       "      <td>0.643409</td>\n",
       "    </tr>\n",
       "    <tr>\n",
       "      <th>retail</th>\n",
       "      <td>0.137772</td>\n",
       "      <td>0.281951</td>\n",
       "      <td>0.467130</td>\n",
       "      <td>1.000000</td>\n",
       "      <td>0.919851</td>\n",
       "      <td>0.767578</td>\n",
       "    </tr>\n",
       "    <tr>\n",
       "      <th>restrnts</th>\n",
       "      <td>0.233448</td>\n",
       "      <td>0.198881</td>\n",
       "      <td>0.384050</td>\n",
       "      <td>0.919851</td>\n",
       "      <td>1.000000</td>\n",
       "      <td>0.822864</td>\n",
       "    </tr>\n",
       "    <tr>\n",
       "      <th>waste_tons</th>\n",
       "      <td>0.185554</td>\n",
       "      <td>0.483217</td>\n",
       "      <td>0.643409</td>\n",
       "      <td>0.767578</td>\n",
       "      <td>0.822864</td>\n",
       "      <td>1.000000</td>\n",
       "    </tr>\n",
       "  </tbody>\n",
       "</table>\n",
       "</div>"
      ],
      "text/plain": [
       "              indust    metals    trucks    retail  restrnts  waste_tons\n",
       "indust      1.000000  0.393163  0.423561  0.137772  0.233448    0.185554\n",
       "metals      0.393163  1.000000  0.892612  0.281951  0.198881    0.483217\n",
       "trucks      0.423561  0.892612  1.000000  0.467130  0.384050    0.643409\n",
       "retail      0.137772  0.281951  0.467130  1.000000  0.919851    0.767578\n",
       "restrnts    0.233448  0.198881  0.384050  0.919851  1.000000    0.822864\n",
       "waste_tons  0.185554  0.483217  0.643409  0.767578  0.822864    1.000000"
      ]
     },
     "execution_count": 60,
     "metadata": {},
     "output_type": "execute_result"
    }
   ],
   "source": [
    "# looking at retail-waste and restaurants-waste\n",
    "waste.corr()"
   ]
  },
  {
   "cell_type": "code",
   "execution_count": 61,
   "metadata": {},
   "outputs": [],
   "source": [
    "import pingouin as pg"
   ]
  },
  {
   "cell_type": "code",
   "execution_count": 62,
   "metadata": {},
   "outputs": [
    {
     "data": {
      "text/html": [
       "<div>\n",
       "<style scoped>\n",
       "    .dataframe tbody tr th:only-of-type {\n",
       "        vertical-align: middle;\n",
       "    }\n",
       "\n",
       "    .dataframe tbody tr th {\n",
       "        vertical-align: top;\n",
       "    }\n",
       "\n",
       "    .dataframe thead th {\n",
       "        text-align: right;\n",
       "    }\n",
       "</style>\n",
       "<table border=\"1\" class=\"dataframe\">\n",
       "  <thead>\n",
       "    <tr style=\"text-align: right;\">\n",
       "      <th></th>\n",
       "      <th>n</th>\n",
       "      <th>r</th>\n",
       "      <th>CI95%</th>\n",
       "      <th>r2</th>\n",
       "      <th>adj_r2</th>\n",
       "      <th>p-val</th>\n",
       "      <th>BF10</th>\n",
       "      <th>power</th>\n",
       "    </tr>\n",
       "  </thead>\n",
       "  <tbody>\n",
       "    <tr>\n",
       "      <th>pearson</th>\n",
       "      <td>40</td>\n",
       "      <td>0.464576</td>\n",
       "      <td>[0.18, 0.68]</td>\n",
       "      <td>0.215831</td>\n",
       "      <td>0.173443</td>\n",
       "      <td>0.002527</td>\n",
       "      <td>16.039</td>\n",
       "      <td>0.871465</td>\n",
       "    </tr>\n",
       "  </tbody>\n",
       "</table>\n",
       "</div>"
      ],
      "text/plain": [
       "          n         r         CI95%        r2    adj_r2     p-val    BF10  \\\n",
       "pearson  40  0.464576  [0.18, 0.68]  0.215831  0.173443  0.002527  16.039   \n",
       "\n",
       "            power  \n",
       "pearson  0.871465  "
      ]
     },
     "execution_count": 62,
     "metadata": {},
     "output_type": "execute_result"
    }
   ],
   "source": [
    "pg.partial_corr(waste, x='restrnts',y='waste_tons',covar='retail')"
   ]
  },
  {
   "cell_type": "code",
   "execution_count": 63,
   "metadata": {},
   "outputs": [
    {
     "data": {
      "text/html": [
       "<div>\n",
       "<style scoped>\n",
       "    .dataframe tbody tr th:only-of-type {\n",
       "        vertical-align: middle;\n",
       "    }\n",
       "\n",
       "    .dataframe tbody tr th {\n",
       "        vertical-align: top;\n",
       "    }\n",
       "\n",
       "    .dataframe thead th {\n",
       "        text-align: right;\n",
       "    }\n",
       "</style>\n",
       "<table border=\"1\" class=\"dataframe\">\n",
       "  <thead>\n",
       "    <tr style=\"text-align: right;\">\n",
       "      <th></th>\n",
       "      <th>n</th>\n",
       "      <th>r</th>\n",
       "      <th>CI95%</th>\n",
       "      <th>r2</th>\n",
       "      <th>adj_r2</th>\n",
       "      <th>p-val</th>\n",
       "      <th>BF10</th>\n",
       "      <th>power</th>\n",
       "    </tr>\n",
       "  </thead>\n",
       "  <tbody>\n",
       "    <tr>\n",
       "      <th>pearson</th>\n",
       "      <td>40</td>\n",
       "      <td>0.047847</td>\n",
       "      <td>[-0.27, 0.35]</td>\n",
       "      <td>0.002289</td>\n",
       "      <td>-0.051641</td>\n",
       "      <td>0.769382</td>\n",
       "      <td>0.205</td>\n",
       "      <td>0.05959</td>\n",
       "    </tr>\n",
       "  </tbody>\n",
       "</table>\n",
       "</div>"
      ],
      "text/plain": [
       "          n         r          CI95%        r2    adj_r2     p-val   BF10  \\\n",
       "pearson  40  0.047847  [-0.27, 0.35]  0.002289 -0.051641  0.769382  0.205   \n",
       "\n",
       "           power  \n",
       "pearson  0.05959  "
      ]
     },
     "execution_count": 63,
     "metadata": {},
     "output_type": "execute_result"
    }
   ],
   "source": [
    "pg.partial_corr(waste, x='retail',y='waste_tons',covar='restrnts')"
   ]
  },
  {
   "cell_type": "markdown",
   "metadata": {},
   "source": [
    "__Observation__: The partial correlation between restaurants and waste (holding retail constant) is .465. (This number is smaller as we removed the retail variable). The r^2 value is .0023. The partial correlation between retail and waste (holding restaurants constant) is .048. This should not surprise us. The correlation matrix (and other explorations) show the high correlations between retail and restaurants."
   ]
  },
  {
   "cell_type": "markdown",
   "metadata": {},
   "source": [
    "### Understanding Part Correlations"
   ]
  },
  {
   "cell_type": "markdown",
   "metadata": {},
   "source": [
    "part correlations are closely related to delta r^2."
   ]
  },
  {
   "cell_type": "code",
   "execution_count": 64,
   "metadata": {},
   "outputs": [],
   "source": [
    "model = ols(\"waste_tons ~ restrnts\", waste).fit()"
   ]
  },
  {
   "cell_type": "code",
   "execution_count": 65,
   "metadata": {},
   "outputs": [],
   "source": [
    "first_r_squared = model.rsquared"
   ]
  },
  {
   "cell_type": "code",
   "execution_count": 66,
   "metadata": {},
   "outputs": [],
   "source": [
    "model = ols(\"waste_tons ~ retail\", waste).fit()"
   ]
  },
  {
   "cell_type": "code",
   "execution_count": 67,
   "metadata": {},
   "outputs": [],
   "source": [
    "second_r_squared = model.rsquared"
   ]
  },
  {
   "cell_type": "code",
   "execution_count": 68,
   "metadata": {},
   "outputs": [
    {
     "data": {
      "text/plain": [
       "0.29652899752127276"
      ]
     },
     "execution_count": 68,
     "metadata": {},
     "output_type": "execute_result"
    }
   ],
   "source": [
    "# this is the part correlation\n",
    "# this tells us how much the r^2 goes up when the variable is put in last. The contribution of the variable.\n",
    "abs(second_r_squared - first_r_squared)**.5"
   ]
  },
  {
   "cell_type": "markdown",
   "metadata": {},
   "source": [
    "_partial correlation_ = (intersection of IV1 and DV, when IV2 is removed)(aka the variance in the dependent variable explained by IV1, when IV2 is removed) / variance of dependent variable (when IV2 is removed)"
   ]
  },
  {
   "cell_type": "markdown",
   "metadata": {},
   "source": [
    "Couple of problems with partial correlations\n",
    " - difficult to compare partial correlations of different variables\n",
    " - when adding up all the partial correlations, you don't get the r^2"
   ]
  },
  {
   "cell_type": "markdown",
   "metadata": {},
   "source": [
    "_part correlation_ - the variance in the DV that IV2 can explain, that IV1 cannot / total variance of DV = delta r-squared"
   ]
  },
  {
   "cell_type": "markdown",
   "metadata": {},
   "source": [
    "_Suppression_ is related to severe multicollinearity."
   ]
  },
  {
   "cell_type": "markdown",
   "metadata": {},
   "source": [
    "### Let's setup an example of simulataneous regression"
   ]
  },
  {
   "cell_type": "markdown",
   "metadata": {},
   "source": [
    "partial correlation, standardized beta, significance of IVs let you know which IVs to include in the model."
   ]
  },
  {
   "cell_type": "markdown",
   "metadata": {},
   "source": [
    "things to focus on  - coefficients, r^2, check residuals plot (for random pattern), check partial plots (to detect clear linear patter)"
   ]
  },
  {
   "cell_type": "code",
   "execution_count": 69,
   "metadata": {},
   "outputs": [],
   "source": [
    "# create a function that takes in a df, names of IV and DV and produces the output of the simulatenous regression\n",
    "# - outputs the descriptive statistics\n",
    "# - outputs the pearson correlations\n",
    "# - should include ANOVA test but can skip this for now\n",
    "# - include histogram of residuals\n",
    "# - include residuals plot for overall dataset\n",
    "# - partial plots between each IV and the DV"
   ]
  },
  {
   "cell_type": "code",
   "execution_count": 70,
   "metadata": {},
   "outputs": [
    {
     "data": {
      "text/plain": [
       "Index(['indust', 'metals', 'trucks', 'retail', 'restrnts', 'waste_tons'], dtype='object')"
      ]
     },
     "execution_count": 70,
     "metadata": {},
     "output_type": "execute_result"
    }
   ],
   "source": [
    "waste.columns"
   ]
  },
  {
   "cell_type": "code",
   "execution_count": 71,
   "metadata": {},
   "outputs": [],
   "source": [
    "model = ols(\"waste_tons ~ indust + metals + trucks + retail + restrnts\", waste).fit()"
   ]
  },
  {
   "cell_type": "code",
   "execution_count": 72,
   "metadata": {},
   "outputs": [
    {
     "data": {
      "text/html": [
       "<table class=\"simpletable\">\n",
       "<caption>OLS Regression Results</caption>\n",
       "<tr>\n",
       "  <th>Dep. Variable:</th>       <td>waste_tons</td>    <th>  R-squared:         </th> <td>   0.849</td>\n",
       "</tr>\n",
       "<tr>\n",
       "  <th>Model:</th>                   <td>OLS</td>       <th>  Adj. R-squared:    </th> <td>   0.827</td>\n",
       "</tr>\n",
       "<tr>\n",
       "  <th>Method:</th>             <td>Least Squares</td>  <th>  F-statistic:       </th> <td>   38.21</td>\n",
       "</tr>\n",
       "<tr>\n",
       "  <th>Date:</th>             <td>Tue, 12 Jan 2021</td> <th>  Prob (F-statistic):</th> <td>5.17e-13</td>\n",
       "</tr>\n",
       "<tr>\n",
       "  <th>Time:</th>                 <td>17:00:12</td>     <th>  Log-Likelihood:    </th> <td> -530.37</td>\n",
       "</tr>\n",
       "<tr>\n",
       "  <th>No. Observations:</th>      <td>    40</td>      <th>  AIC:               </th> <td>   1073.</td>\n",
       "</tr>\n",
       "<tr>\n",
       "  <th>Df Residuals:</th>          <td>    34</td>      <th>  BIC:               </th> <td>   1083.</td>\n",
       "</tr>\n",
       "<tr>\n",
       "  <th>Df Model:</th>              <td>     5</td>      <th>                     </th>     <td> </td>   \n",
       "</tr>\n",
       "<tr>\n",
       "  <th>Covariance Type:</th>      <td>nonrobust</td>    <th>                     </th>     <td> </td>   \n",
       "</tr>\n",
       "</table>\n",
       "<table class=\"simpletable\">\n",
       "<tr>\n",
       "      <td></td>         <th>coef</th>     <th>std err</th>      <th>t</th>      <th>P>|t|</th>  <th>[0.025</th>    <th>0.975]</th>  \n",
       "</tr>\n",
       "<tr>\n",
       "  <th>Intercept</th> <td> 1.216e+05</td> <td> 3.17e+04</td> <td>    3.838</td> <td> 0.001</td> <td> 5.72e+04</td> <td> 1.86e+05</td>\n",
       "</tr>\n",
       "<tr>\n",
       "  <th>indust</th>    <td>  -52.4856</td> <td>   17.913</td> <td>   -2.930</td> <td> 0.006</td> <td>  -88.889</td> <td>  -16.082</td>\n",
       "</tr>\n",
       "<tr>\n",
       "  <th>metals</th>    <td>   43.4519</td> <td>  153.701</td> <td>    0.283</td> <td> 0.779</td> <td> -268.907</td> <td>  355.811</td>\n",
       "</tr>\n",
       "<tr>\n",
       "  <th>trucks</th>    <td>  250.3242</td> <td>   88.553</td> <td>    2.827</td> <td> 0.008</td> <td>   70.363</td> <td>  430.285</td>\n",
       "</tr>\n",
       "<tr>\n",
       "  <th>retail</th>    <td> -859.7063</td> <td>  376.371</td> <td>   -2.284</td> <td> 0.029</td> <td>-1624.584</td> <td>  -94.829</td>\n",
       "</tr>\n",
       "<tr>\n",
       "  <th>restrnts</th>  <td> 1.336e+04</td> <td> 2281.798</td> <td>    5.853</td> <td> 0.000</td> <td> 8718.028</td> <td>  1.8e+04</td>\n",
       "</tr>\n",
       "</table>\n",
       "<table class=\"simpletable\">\n",
       "<tr>\n",
       "  <th>Omnibus:</th>       <td> 0.651</td> <th>  Durbin-Watson:     </th> <td>   1.694</td>\n",
       "</tr>\n",
       "<tr>\n",
       "  <th>Prob(Omnibus):</th> <td> 0.722</td> <th>  Jarque-Bera (JB):  </th> <td>   0.713</td>\n",
       "</tr>\n",
       "<tr>\n",
       "  <th>Skew:</th>          <td> 0.271</td> <th>  Prob(JB):          </th> <td>   0.700</td>\n",
       "</tr>\n",
       "<tr>\n",
       "  <th>Kurtosis:</th>      <td> 2.634</td> <th>  Cond. No.          </th> <td>2.32e+03</td>\n",
       "</tr>\n",
       "</table><br/><br/>Warnings:<br/>[1] Standard Errors assume that the covariance matrix of the errors is correctly specified.<br/>[2] The condition number is large, 2.32e+03. This might indicate that there are<br/>strong multicollinearity or other numerical problems."
      ],
      "text/plain": [
       "<class 'statsmodels.iolib.summary.Summary'>\n",
       "\"\"\"\n",
       "                            OLS Regression Results                            \n",
       "==============================================================================\n",
       "Dep. Variable:             waste_tons   R-squared:                       0.849\n",
       "Model:                            OLS   Adj. R-squared:                  0.827\n",
       "Method:                 Least Squares   F-statistic:                     38.21\n",
       "Date:                Tue, 12 Jan 2021   Prob (F-statistic):           5.17e-13\n",
       "Time:                        17:00:12   Log-Likelihood:                -530.37\n",
       "No. Observations:                  40   AIC:                             1073.\n",
       "Df Residuals:                      34   BIC:                             1083.\n",
       "Df Model:                           5                                         \n",
       "Covariance Type:            nonrobust                                         \n",
       "==============================================================================\n",
       "                 coef    std err          t      P>|t|      [0.025      0.975]\n",
       "------------------------------------------------------------------------------\n",
       "Intercept   1.216e+05   3.17e+04      3.838      0.001    5.72e+04    1.86e+05\n",
       "indust       -52.4856     17.913     -2.930      0.006     -88.889     -16.082\n",
       "metals        43.4519    153.701      0.283      0.779    -268.907     355.811\n",
       "trucks       250.3242     88.553      2.827      0.008      70.363     430.285\n",
       "retail      -859.7063    376.371     -2.284      0.029   -1624.584     -94.829\n",
       "restrnts    1.336e+04   2281.798      5.853      0.000    8718.028     1.8e+04\n",
       "==============================================================================\n",
       "Omnibus:                        0.651   Durbin-Watson:                   1.694\n",
       "Prob(Omnibus):                  0.722   Jarque-Bera (JB):                0.713\n",
       "Skew:                           0.271   Prob(JB):                        0.700\n",
       "Kurtosis:                       2.634   Cond. No.                     2.32e+03\n",
       "==============================================================================\n",
       "\n",
       "Warnings:\n",
       "[1] Standard Errors assume that the covariance matrix of the errors is correctly specified.\n",
       "[2] The condition number is large, 2.32e+03. This might indicate that there are\n",
       "strong multicollinearity or other numerical problems.\n",
       "\"\"\""
      ]
     },
     "execution_count": 72,
     "metadata": {},
     "output_type": "execute_result"
    }
   ],
   "source": [
    "# the adjusted r-squared take the number of IVs in our model into account (this is to prevent complex models)\n",
    "model.summary()"
   ]
  },
  {
   "cell_type": "markdown",
   "metadata": {},
   "source": [
    "__Observation__ : We see including metals in the model was not significant (as demonstrated in the \"P>|t|\" column) "
   ]
  },
  {
   "cell_type": "code",
   "execution_count": 73,
   "metadata": {},
   "outputs": [
    {
     "data": {
      "text/plain": [
       "Intercept    121584.814919\n",
       "indust          -52.485612\n",
       "metals           43.451881\n",
       "trucks          250.324159\n",
       "retail         -859.706333\n",
       "restrnts      13355.199273\n",
       "dtype: float64"
      ]
     },
     "execution_count": 73,
     "metadata": {},
     "output_type": "execute_result"
    }
   ],
   "source": [
    "# these are the beta coefficients\n",
    "model.params"
   ]
  },
  {
   "cell_type": "code",
   "execution_count": 74,
   "metadata": {},
   "outputs": [],
   "source": [
    "# here's how to get the standardize beta coefficients"
   ]
  },
  {
   "cell_type": "code",
   "execution_count": 77,
   "metadata": {},
   "outputs": [],
   "source": [
    "import scipy.stats as stats"
   ]
  },
  {
   "cell_type": "code",
   "execution_count": 78,
   "metadata": {},
   "outputs": [],
   "source": [
    "standardized_waste = waste.apply(stats.zscore)"
   ]
  },
  {
   "cell_type": "code",
   "execution_count": 79,
   "metadata": {},
   "outputs": [
    {
     "data": {
      "text/plain": [
       "Intercept    0.000000\n",
       "indust      -0.232396\n",
       "metals       0.044695\n",
       "trucks       0.490884\n",
       "retail      -0.438926\n",
       "restrnts     1.083450\n",
       "dtype: float64"
      ]
     },
     "execution_count": 79,
     "metadata": {},
     "output_type": "execute_result"
    }
   ],
   "source": [
    "result = ols(\"waste_tons ~ indust + metals + trucks + retail + restrnts\", data=standardized_waste).fit()\n",
    "\n",
    "# checking results\n",
    "result.params"
   ]
  },
  {
   "cell_type": "markdown",
   "metadata": {},
   "source": [
    "__Observation__ - The negative beta coefficients and the standardized beta coefficient that lies outside the allowable range (more than 1) shows us we have severe multicollinearity."
   ]
  },
  {
   "cell_type": "code",
   "execution_count": 131,
   "metadata": {},
   "outputs": [
    {
     "data": {
      "text/html": [
       "<div>\n",
       "<style scoped>\n",
       "    .dataframe tbody tr th:only-of-type {\n",
       "        vertical-align: middle;\n",
       "    }\n",
       "\n",
       "    .dataframe tbody tr th {\n",
       "        vertical-align: top;\n",
       "    }\n",
       "\n",
       "    .dataframe thead th {\n",
       "        text-align: right;\n",
       "    }\n",
       "</style>\n",
       "<table border=\"1\" class=\"dataframe\">\n",
       "  <thead>\n",
       "    <tr style=\"text-align: right;\">\n",
       "      <th></th>\n",
       "      <th>waste_tons</th>\n",
       "    </tr>\n",
       "  </thead>\n",
       "  <tbody>\n",
       "    <tr>\n",
       "      <th>indust</th>\n",
       "      <td>-0.449000</td>\n",
       "    </tr>\n",
       "    <tr>\n",
       "      <th>metals</th>\n",
       "      <td>0.048426</td>\n",
       "    </tr>\n",
       "    <tr>\n",
       "      <th>trucks</th>\n",
       "      <td>0.436237</td>\n",
       "    </tr>\n",
       "    <tr>\n",
       "      <th>retail</th>\n",
       "      <td>-0.364749</td>\n",
       "    </tr>\n",
       "    <tr>\n",
       "      <th>restrnts</th>\n",
       "      <td>0.708436</td>\n",
       "    </tr>\n",
       "    <tr>\n",
       "      <th>waste_tons</th>\n",
       "      <td>1.000000</td>\n",
       "    </tr>\n",
       "  </tbody>\n",
       "</table>\n",
       "</div>"
      ],
      "text/plain": [
       "            waste_tons\n",
       "indust       -0.449000\n",
       "metals        0.048426\n",
       "trucks        0.436237\n",
       "retail       -0.364749\n",
       "restrnts      0.708436\n",
       "waste_tons    1.000000"
      ]
     },
     "execution_count": 131,
     "metadata": {},
     "output_type": "execute_result"
    }
   ],
   "source": [
    "# the classic way we'll see the individual contribution of each variable\n",
    "waste.pcorr()[['waste_tons']]"
   ]
  },
  {
   "cell_type": "markdown",
   "metadata": {},
   "source": [
    "### Let's Set up an example of Hierarchical Regression"
   ]
  },
  {
   "cell_type": "markdown",
   "metadata": {},
   "source": [
    "__Next up__: Quadratic"
   ]
  },
  {
   "cell_type": "code",
   "execution_count": 80,
   "metadata": {},
   "outputs": [],
   "source": [
    "mw_bank_dummy_code_interaction_terms = pd.read_spss('Exercise Files/Resources/Case Study Data/MWBank with Dummy Code and Interaction Terms.sav')"
   ]
  },
  {
   "cell_type": "code",
   "execution_count": 173,
   "metadata": {},
   "outputs": [],
   "source": [
    "mw_bank_dummy_code_interaction_terms.dropna(subset=['sex'], inplace=True)"
   ]
  },
  {
   "cell_type": "markdown",
   "metadata": {},
   "source": [
    "Let's put the variables in order of importance (we'll also leave out current salary because our DV is beginning salary). We're trying to determine if there is gender bias in pay.\n",
    "\n",
    "1. Education Center(educ_cen) (we do this to avoid multicollinearity that can result from having education and education-sex together in model) and Work Experience (work).\n",
    "2. 6 occupations dummy variables (leaving out one, we'll choose clerical). The delta r-squared will allow us to measure the impact of the group\n",
    "3. Sex (coded as zero and ones)\n",
    "4. ed_sex\n",
    "\n",
    "We build 4 models and produce the model summary after each. Look at the r-squared after building each model. Look at the coefficients of the final model.\n",
    "\n",
    "Show what would happen if you put gender first and last. OT and SO are not serverely different from the clerical reference group."
   ]
  },
  {
   "cell_type": "code",
   "execution_count": 183,
   "metadata": {},
   "outputs": [],
   "source": [
    "# both of the dependent variables represent info before the beginning salary was declared.\n",
    "model = ols(\"salbeg ~ educ_cen + work \", mw_bank_dummy_code_interaction_terms).fit()\n",
    "\n",
    "# we'll use clerical as our reference group. Consequently, we'll leave out its dummy coded variable, and include all\n",
    "# of the remaining 6 dummy variables that represent occupation\n",
    "model_two = ols(\"salbeg ~ educ_cen + work + ot_yn + so_yn + ct_yn + exempt_yn + mba_yn + tech_yn\", \n",
    "                mw_bank_dummy_code_interaction_terms).fit()\n",
    "\n",
    "# we'll include sex (Males - 0,  Females - 1)\n",
    "model_three = ols(\"salbeg ~ educ_cen + work + ot_yn + so_yn + ct_yn + exempt_yn + mba_yn + tech_yn + sex_num\", \n",
    "                mw_bank_dummy_code_interaction_terms).fit()\n",
    "\n",
    "model_four = ols(\"salbeg ~ educ_cen + work + ot_yn + so_yn + ct_yn + exempt_yn + mba_yn + tech_yn + sex_num + ed_sex\", \n",
    "                mw_bank_dummy_code_interaction_terms).fit()"
   ]
  },
  {
   "cell_type": "code",
   "execution_count": 176,
   "metadata": {},
   "outputs": [
    {
     "data": {
      "text/plain": [
       "Index(['id', 'salbeg', 'sex', 'time', 'age', 'salnow', 'edlevel', 'work',\n",
       "       'jobcat', 'minority', 'clerical_yn', 'ot_yn', 'so_yn', 'ct_yn',\n",
       "       'exempt_yn', 'mba_yn', 'tech_yn', 'educ_cen', 'ed_sex', 'sex_num'],\n",
       "      dtype='object')"
      ]
     },
     "execution_count": 176,
     "metadata": {},
     "output_type": "execute_result"
    }
   ],
   "source": [
    "mw_bank_dummy_code_interaction_terms.columns"
   ]
  },
  {
   "cell_type": "code",
   "execution_count": 174,
   "metadata": {},
   "outputs": [],
   "source": [
    "mw_bank_dummy_code_interaction_terms['sex_num'] = mw_bank_dummy_code_interaction_terms['sex'].apply(\n",
    "    lambda cell: 0 if cell == 'Males' else 1)"
   ]
  },
  {
   "cell_type": "code",
   "execution_count": 215,
   "metadata": {},
   "outputs": [
    {
     "name": "stdout",
     "output_type": "stream",
     "text": [
      "0.44768578258427516\n",
      "0.784053646129411\n",
      "0.8031781026886293\n",
      "0.8064547346364358\n"
     ]
    }
   ],
   "source": [
    "# these are the r-squared values for each of the models. Moving from the second to the third model, we see there is an\n",
    "# increase in 2% points. This is actually alot, considering how much variance we've removed from the previous two models\n",
    "print(model.rsquared_adj)\n",
    "print(model_two.rsquared_adj)\n",
    "print(model_three.rsquared_adj)\n",
    "print(model_four.rsquared_adj)"
   ]
  },
  {
   "cell_type": "code",
   "execution_count": 190,
   "metadata": {},
   "outputs": [],
   "source": [
    "# the zero-order correlations for sex\n",
    "# this shows we would've received an r-squared value of 20.7% if we used sex as the first variable\n",
    "model_other = ols(\"salbeg ~ sex_num\", mw_bank_dummy_code_interaction_terms).fit()"
   ]
  },
  {
   "cell_type": "code",
   "execution_count": 191,
   "metadata": {},
   "outputs": [
    {
     "data": {
      "text/html": [
       "<table class=\"simpletable\">\n",
       "<caption>OLS Regression Results</caption>\n",
       "<tr>\n",
       "  <th>Dep. Variable:</th>         <td>salbeg</td>      <th>  R-squared:         </th> <td>   0.207</td>\n",
       "</tr>\n",
       "<tr>\n",
       "  <th>Model:</th>                   <td>OLS</td>       <th>  Adj. R-squared:    </th> <td>   0.205</td>\n",
       "</tr>\n",
       "<tr>\n",
       "  <th>Method:</th>             <td>Least Squares</td>  <th>  F-statistic:       </th> <td>   122.3</td>\n",
       "</tr>\n",
       "<tr>\n",
       "  <th>Date:</th>             <td>Tue, 12 Jan 2021</td> <th>  Prob (F-statistic):</th> <td>1.96e-25</td>\n",
       "</tr>\n",
       "<tr>\n",
       "  <th>Time:</th>                 <td>19:38:58</td>     <th>  Log-Likelihood:    </th> <td> -4416.6</td>\n",
       "</tr>\n",
       "<tr>\n",
       "  <th>No. Observations:</th>      <td>   472</td>      <th>  AIC:               </th> <td>   8837.</td>\n",
       "</tr>\n",
       "<tr>\n",
       "  <th>Df Residuals:</th>          <td>   470</td>      <th>  BIC:               </th> <td>   8846.</td>\n",
       "</tr>\n",
       "<tr>\n",
       "  <th>Df Model:</th>              <td>     1</td>      <th>                     </th>     <td> </td>   \n",
       "</tr>\n",
       "<tr>\n",
       "  <th>Covariance Type:</th>      <td>nonrobust</td>    <th>                     </th>     <td> </td>   \n",
       "</tr>\n",
       "</table>\n",
       "<table class=\"simpletable\">\n",
       "<tr>\n",
       "        <td></td>          <th>coef</th>     <th>std err</th>      <th>t</th>      <th>P>|t|</th>  <th>[0.025</th>    <th>0.975]</th>  \n",
       "</tr>\n",
       "<tr>\n",
       "  <th>Intercept</th>    <td> 5248.4393</td> <td>  191.979</td> <td>   27.339</td> <td> 0.000</td> <td> 4871.195</td> <td> 5625.683</td>\n",
       "</tr>\n",
       "<tr>\n",
       "  <th>sex_num[T.0]</th> <td> 2872.1189</td> <td>  259.666</td> <td>   11.061</td> <td> 0.000</td> <td> 2361.869</td> <td> 3382.369</td>\n",
       "</tr>\n",
       "</table>\n",
       "<table class=\"simpletable\">\n",
       "<tr>\n",
       "  <th>Omnibus:</th>       <td>332.486</td> <th>  Durbin-Watson:     </th> <td>   1.477</td>\n",
       "</tr>\n",
       "<tr>\n",
       "  <th>Prob(Omnibus):</th> <td> 0.000</td>  <th>  Jarque-Bera (JB):  </th> <td>4881.566</td>\n",
       "</tr>\n",
       "<tr>\n",
       "  <th>Skew:</th>          <td> 2.898</td>  <th>  Prob(JB):          </th> <td>    0.00</td>\n",
       "</tr>\n",
       "<tr>\n",
       "  <th>Kurtosis:</th>      <td>17.650</td>  <th>  Cond. No.          </th> <td>    2.74</td>\n",
       "</tr>\n",
       "</table><br/><br/>Warnings:<br/>[1] Standard Errors assume that the covariance matrix of the errors is correctly specified."
      ],
      "text/plain": [
       "<class 'statsmodels.iolib.summary.Summary'>\n",
       "\"\"\"\n",
       "                            OLS Regression Results                            \n",
       "==============================================================================\n",
       "Dep. Variable:                 salbeg   R-squared:                       0.207\n",
       "Model:                            OLS   Adj. R-squared:                  0.205\n",
       "Method:                 Least Squares   F-statistic:                     122.3\n",
       "Date:                Tue, 12 Jan 2021   Prob (F-statistic):           1.96e-25\n",
       "Time:                        19:38:58   Log-Likelihood:                -4416.6\n",
       "No. Observations:                 472   AIC:                             8837.\n",
       "Df Residuals:                     470   BIC:                             8846.\n",
       "Df Model:                           1                                         \n",
       "Covariance Type:            nonrobust                                         \n",
       "================================================================================\n",
       "                   coef    std err          t      P>|t|      [0.025      0.975]\n",
       "--------------------------------------------------------------------------------\n",
       "Intercept     5248.4393    191.979     27.339      0.000    4871.195    5625.683\n",
       "sex_num[T.0]  2872.1189    259.666     11.061      0.000    2361.869    3382.369\n",
       "==============================================================================\n",
       "Omnibus:                      332.486   Durbin-Watson:                   1.477\n",
       "Prob(Omnibus):                  0.000   Jarque-Bera (JB):             4881.566\n",
       "Skew:                           2.898   Prob(JB):                         0.00\n",
       "Kurtosis:                      17.650   Cond. No.                         2.74\n",
       "==============================================================================\n",
       "\n",
       "Warnings:\n",
       "[1] Standard Errors assume that the covariance matrix of the errors is correctly specified.\n",
       "\"\"\""
      ]
     },
     "execution_count": 191,
     "metadata": {},
     "output_type": "execute_result"
    }
   ],
   "source": [
    "model_other.summary()"
   ]
  },
  {
   "cell_type": "code",
   "execution_count": 193,
   "metadata": {},
   "outputs": [
    {
     "data": {
      "text/html": [
       "<table class=\"simpletable\">\n",
       "<caption>OLS Regression Results</caption>\n",
       "<tr>\n",
       "  <th>Dep. Variable:</th>         <td>salbeg</td>      <th>  R-squared:         </th> <td>   0.811</td> \n",
       "</tr>\n",
       "<tr>\n",
       "  <th>Model:</th>                   <td>OLS</td>       <th>  Adj. R-squared:    </th> <td>   0.806</td> \n",
       "</tr>\n",
       "<tr>\n",
       "  <th>Method:</th>             <td>Least Squares</td>  <th>  F-statistic:       </th> <td>   197.3</td> \n",
       "</tr>\n",
       "<tr>\n",
       "  <th>Date:</th>             <td>Tue, 12 Jan 2021</td> <th>  Prob (F-statistic):</th> <td>1.52e-159</td>\n",
       "</tr>\n",
       "<tr>\n",
       "  <th>Time:</th>                 <td>19:41:40</td>     <th>  Log-Likelihood:    </th> <td> -4078.6</td> \n",
       "</tr>\n",
       "<tr>\n",
       "  <th>No. Observations:</th>      <td>   472</td>      <th>  AIC:               </th> <td>   8179.</td> \n",
       "</tr>\n",
       "<tr>\n",
       "  <th>Df Residuals:</th>          <td>   461</td>      <th>  BIC:               </th> <td>   8225.</td> \n",
       "</tr>\n",
       "<tr>\n",
       "  <th>Df Model:</th>              <td>    10</td>      <th>                     </th>     <td> </td>    \n",
       "</tr>\n",
       "<tr>\n",
       "  <th>Covariance Type:</th>      <td>nonrobust</td>    <th>                     </th>     <td> </td>    \n",
       "</tr>\n",
       "</table>\n",
       "<table class=\"simpletable\">\n",
       "<tr>\n",
       "        <td></td>          <th>coef</th>     <th>std err</th>      <th>t</th>      <th>P>|t|</th>  <th>[0.025</th>    <th>0.975]</th>  \n",
       "</tr>\n",
       "<tr>\n",
       "  <th>Intercept</th>    <td> 5053.9608</td> <td>  149.783</td> <td>   33.742</td> <td> 0.000</td> <td> 4759.618</td> <td> 5348.303</td>\n",
       "</tr>\n",
       "<tr>\n",
       "  <th>sex_num[T.0]</th> <td> 1073.1341</td> <td>  151.385</td> <td>    7.089</td> <td> 0.000</td> <td>  775.644</td> <td> 1370.624</td>\n",
       "</tr>\n",
       "<tr>\n",
       "  <th>educ_cen</th>     <td>  311.6263</td> <td>   41.578</td> <td>    7.495</td> <td> 0.000</td> <td>  229.920</td> <td>  393.332</td>\n",
       "</tr>\n",
       "<tr>\n",
       "  <th>work</th>         <td>   26.7541</td> <td>    9.144</td> <td>    2.926</td> <td> 0.004</td> <td>    8.786</td> <td>   44.723</td>\n",
       "</tr>\n",
       "<tr>\n",
       "  <th>ot_yn</th>        <td>   25.2979</td> <td>  161.185</td> <td>    0.157</td> <td> 0.875</td> <td> -291.450</td> <td>  342.046</td>\n",
       "</tr>\n",
       "<tr>\n",
       "  <th>so_yn</th>        <td>  272.3293</td> <td>  348.964</td> <td>    0.780</td> <td> 0.436</td> <td> -413.427</td> <td>  958.086</td>\n",
       "</tr>\n",
       "<tr>\n",
       "  <th>ct_yn</th>        <td> 2907.4174</td> <td>  271.374</td> <td>   10.714</td> <td> 0.000</td> <td> 2374.133</td> <td> 3440.702</td>\n",
       "</tr>\n",
       "<tr>\n",
       "  <th>exempt_yn</th>    <td> 5787.8112</td> <td>  302.959</td> <td>   19.104</td> <td> 0.000</td> <td> 5192.459</td> <td> 6383.164</td>\n",
       "</tr>\n",
       "<tr>\n",
       "  <th>mba_yn</th>       <td> 5489.3685</td> <td>  648.394</td> <td>    8.466</td> <td> 0.000</td> <td> 4215.194</td> <td> 6763.543</td>\n",
       "</tr>\n",
       "<tr>\n",
       "  <th>tech_yn</th>      <td> 1.205e+04</td> <td>  607.339</td> <td>   19.849</td> <td> 0.000</td> <td> 1.09e+04</td> <td> 1.32e+04</td>\n",
       "</tr>\n",
       "<tr>\n",
       "  <th>ed_sex</th>       <td> -166.8337</td> <td>   56.171</td> <td>   -2.970</td> <td> 0.003</td> <td> -277.217</td> <td>  -56.450</td>\n",
       "</tr>\n",
       "</table>\n",
       "<table class=\"simpletable\">\n",
       "<tr>\n",
       "  <th>Omnibus:</th>       <td>326.742</td> <th>  Durbin-Watson:     </th> <td>   1.286</td>\n",
       "</tr>\n",
       "<tr>\n",
       "  <th>Prob(Omnibus):</th> <td> 0.000</td>  <th>  Jarque-Bera (JB):  </th> <td>8835.610</td>\n",
       "</tr>\n",
       "<tr>\n",
       "  <th>Skew:</th>          <td> 2.574</td>  <th>  Prob(JB):          </th> <td>    0.00</td>\n",
       "</tr>\n",
       "<tr>\n",
       "  <th>Kurtosis:</th>      <td>23.561</td>  <th>  Cond. No.          </th> <td>    125.</td>\n",
       "</tr>\n",
       "</table><br/><br/>Warnings:<br/>[1] Standard Errors assume that the covariance matrix of the errors is correctly specified."
      ],
      "text/plain": [
       "<class 'statsmodels.iolib.summary.Summary'>\n",
       "\"\"\"\n",
       "                            OLS Regression Results                            \n",
       "==============================================================================\n",
       "Dep. Variable:                 salbeg   R-squared:                       0.811\n",
       "Model:                            OLS   Adj. R-squared:                  0.806\n",
       "Method:                 Least Squares   F-statistic:                     197.3\n",
       "Date:                Tue, 12 Jan 2021   Prob (F-statistic):          1.52e-159\n",
       "Time:                        19:41:40   Log-Likelihood:                -4078.6\n",
       "No. Observations:                 472   AIC:                             8179.\n",
       "Df Residuals:                     461   BIC:                             8225.\n",
       "Df Model:                          10                                         \n",
       "Covariance Type:            nonrobust                                         \n",
       "================================================================================\n",
       "                   coef    std err          t      P>|t|      [0.025      0.975]\n",
       "--------------------------------------------------------------------------------\n",
       "Intercept     5053.9608    149.783     33.742      0.000    4759.618    5348.303\n",
       "sex_num[T.0]  1073.1341    151.385      7.089      0.000     775.644    1370.624\n",
       "educ_cen       311.6263     41.578      7.495      0.000     229.920     393.332\n",
       "work            26.7541      9.144      2.926      0.004       8.786      44.723\n",
       "ot_yn           25.2979    161.185      0.157      0.875    -291.450     342.046\n",
       "so_yn          272.3293    348.964      0.780      0.436    -413.427     958.086\n",
       "ct_yn         2907.4174    271.374     10.714      0.000    2374.133    3440.702\n",
       "exempt_yn     5787.8112    302.959     19.104      0.000    5192.459    6383.164\n",
       "mba_yn        5489.3685    648.394      8.466      0.000    4215.194    6763.543\n",
       "tech_yn       1.205e+04    607.339     19.849      0.000    1.09e+04    1.32e+04\n",
       "ed_sex        -166.8337     56.171     -2.970      0.003    -277.217     -56.450\n",
       "==============================================================================\n",
       "Omnibus:                      326.742   Durbin-Watson:                   1.286\n",
       "Prob(Omnibus):                  0.000   Jarque-Bera (JB):             8835.610\n",
       "Skew:                           2.574   Prob(JB):                         0.00\n",
       "Kurtosis:                      23.561   Cond. No.                         125.\n",
       "==============================================================================\n",
       "\n",
       "Warnings:\n",
       "[1] Standard Errors assume that the covariance matrix of the errors is correctly specified.\n",
       "\"\"\""
      ]
     },
     "execution_count": 193,
     "metadata": {},
     "output_type": "execute_result"
    }
   ],
   "source": [
    "# we see ot_yn and so_yn are not signficant, but they should stay in the model, as they are part of a set of variables\n",
    "model_four.summary()"
   ]
  },
  {
   "cell_type": "markdown",
   "metadata": {},
   "source": [
    "__Observation__ : A signficant increase in beginning salary is observed when we include gender as a variable in the model"
   ]
  },
  {
   "cell_type": "markdown",
   "metadata": {},
   "source": [
    "### Creating a train-test partition"
   ]
  },
  {
   "cell_type": "code",
   "execution_count": 83,
   "metadata": {},
   "outputs": [],
   "source": [
    "auto_imports = pd.read_spss('Exercise Files/Resources/Case Study Data/Auto Imports.sav')"
   ]
  },
  {
   "cell_type": "code",
   "execution_count": 86,
   "metadata": {},
   "outputs": [
    {
     "data": {
      "text/html": [
       "<div>\n",
       "<style scoped>\n",
       "    .dataframe tbody tr th:only-of-type {\n",
       "        vertical-align: middle;\n",
       "    }\n",
       "\n",
       "    .dataframe tbody tr th {\n",
       "        vertical-align: top;\n",
       "    }\n",
       "\n",
       "    .dataframe thead th {\n",
       "        text-align: right;\n",
       "    }\n",
       "</style>\n",
       "<table border=\"1\" class=\"dataframe\">\n",
       "  <thead>\n",
       "    <tr style=\"text-align: right;\">\n",
       "      <th></th>\n",
       "      <th>make</th>\n",
       "      <th>fueltype</th>\n",
       "      <th>aspiration</th>\n",
       "      <th>doors</th>\n",
       "      <th>body</th>\n",
       "      <th>drive</th>\n",
       "      <th>engine_loc</th>\n",
       "      <th>wheel_base</th>\n",
       "      <th>length</th>\n",
       "      <th>width</th>\n",
       "      <th>...</th>\n",
       "      <th>engine_size</th>\n",
       "      <th>fuel</th>\n",
       "      <th>bore</th>\n",
       "      <th>stroke</th>\n",
       "      <th>comp_ratio</th>\n",
       "      <th>horsepower</th>\n",
       "      <th>peak_rpm</th>\n",
       "      <th>city_mpg</th>\n",
       "      <th>hwy_mpg</th>\n",
       "      <th>price</th>\n",
       "    </tr>\n",
       "  </thead>\n",
       "  <tbody>\n",
       "    <tr>\n",
       "      <th>0</th>\n",
       "      <td>subaru</td>\n",
       "      <td>gas</td>\n",
       "      <td>std</td>\n",
       "      <td>two</td>\n",
       "      <td>hatchback</td>\n",
       "      <td>fwd</td>\n",
       "      <td>front</td>\n",
       "      <td>93.7</td>\n",
       "      <td>156.9</td>\n",
       "      <td>63.4</td>\n",
       "      <td>...</td>\n",
       "      <td>97.0</td>\n",
       "      <td>2bbl</td>\n",
       "      <td>3.62</td>\n",
       "      <td>2.36</td>\n",
       "      <td>9.0</td>\n",
       "      <td>69.0</td>\n",
       "      <td>4900.0</td>\n",
       "      <td>31.0</td>\n",
       "      <td>36.0</td>\n",
       "      <td>5118.0</td>\n",
       "    </tr>\n",
       "    <tr>\n",
       "      <th>1</th>\n",
       "      <td>chevrolet</td>\n",
       "      <td>gas</td>\n",
       "      <td>std</td>\n",
       "      <td>two</td>\n",
       "      <td>hatchback</td>\n",
       "      <td>fwd</td>\n",
       "      <td>front</td>\n",
       "      <td>88.4</td>\n",
       "      <td>141.1</td>\n",
       "      <td>60.3</td>\n",
       "      <td>...</td>\n",
       "      <td>61.0</td>\n",
       "      <td>2bbl</td>\n",
       "      <td>2.91</td>\n",
       "      <td>3.03</td>\n",
       "      <td>9.5</td>\n",
       "      <td>48.0</td>\n",
       "      <td>5100.0</td>\n",
       "      <td>47.0</td>\n",
       "      <td>53.0</td>\n",
       "      <td>5151.0</td>\n",
       "    </tr>\n",
       "    <tr>\n",
       "      <th>2</th>\n",
       "      <td>mazda</td>\n",
       "      <td>gas</td>\n",
       "      <td>std</td>\n",
       "      <td>two</td>\n",
       "      <td>hatchback</td>\n",
       "      <td>fwd</td>\n",
       "      <td>front</td>\n",
       "      <td>93.1</td>\n",
       "      <td>159.1</td>\n",
       "      <td>64.2</td>\n",
       "      <td>...</td>\n",
       "      <td>91.0</td>\n",
       "      <td>2bbl</td>\n",
       "      <td>3.03</td>\n",
       "      <td>3.15</td>\n",
       "      <td>9.0</td>\n",
       "      <td>68.0</td>\n",
       "      <td>5000.0</td>\n",
       "      <td>30.0</td>\n",
       "      <td>31.0</td>\n",
       "      <td>5195.0</td>\n",
       "    </tr>\n",
       "    <tr>\n",
       "      <th>3</th>\n",
       "      <td>toyota</td>\n",
       "      <td>gas</td>\n",
       "      <td>std</td>\n",
       "      <td>two</td>\n",
       "      <td>hatchback</td>\n",
       "      <td>fwd</td>\n",
       "      <td>front</td>\n",
       "      <td>95.7</td>\n",
       "      <td>158.7</td>\n",
       "      <td>63.6</td>\n",
       "      <td>...</td>\n",
       "      <td>92.0</td>\n",
       "      <td>2bbl</td>\n",
       "      <td>3.05</td>\n",
       "      <td>3.03</td>\n",
       "      <td>9.0</td>\n",
       "      <td>62.0</td>\n",
       "      <td>4800.0</td>\n",
       "      <td>35.0</td>\n",
       "      <td>39.0</td>\n",
       "      <td>5348.0</td>\n",
       "    </tr>\n",
       "    <tr>\n",
       "      <th>4</th>\n",
       "      <td>mitsubishi</td>\n",
       "      <td>gas</td>\n",
       "      <td>std</td>\n",
       "      <td>two</td>\n",
       "      <td>hatchback</td>\n",
       "      <td>fwd</td>\n",
       "      <td>front</td>\n",
       "      <td>93.7</td>\n",
       "      <td>157.3</td>\n",
       "      <td>64.4</td>\n",
       "      <td>...</td>\n",
       "      <td>92.0</td>\n",
       "      <td>2bbl</td>\n",
       "      <td>2.97</td>\n",
       "      <td>3.23</td>\n",
       "      <td>9.4</td>\n",
       "      <td>68.0</td>\n",
       "      <td>5500.0</td>\n",
       "      <td>37.0</td>\n",
       "      <td>41.0</td>\n",
       "      <td>5389.0</td>\n",
       "    </tr>\n",
       "  </tbody>\n",
       "</table>\n",
       "<p>5 rows × 24 columns</p>\n",
       "</div>"
      ],
      "text/plain": [
       "         make fueltype aspiration doors       body drive engine_loc  \\\n",
       "0      subaru      gas        std   two  hatchback   fwd      front   \n",
       "1   chevrolet      gas        std   two  hatchback   fwd      front   \n",
       "2       mazda      gas        std   two  hatchback   fwd      front   \n",
       "3      toyota      gas        std   two  hatchback   fwd      front   \n",
       "4  mitsubishi      gas        std   two  hatchback   fwd      front   \n",
       "\n",
       "   wheel_base  length  width  ...  engine_size  fuel  bore stroke  comp_ratio  \\\n",
       "0        93.7   156.9   63.4  ...         97.0  2bbl  3.62   2.36         9.0   \n",
       "1        88.4   141.1   60.3  ...         61.0  2bbl  2.91   3.03         9.5   \n",
       "2        93.1   159.1   64.2  ...         91.0  2bbl  3.03   3.15         9.0   \n",
       "3        95.7   158.7   63.6  ...         92.0  2bbl  3.05   3.03         9.0   \n",
       "4        93.7   157.3   64.4  ...         92.0  2bbl  2.97   3.23         9.4   \n",
       "\n",
       "  horsepower  peak_rpm  city_mpg  hwy_mpg   price  \n",
       "0       69.0    4900.0      31.0     36.0  5118.0  \n",
       "1       48.0    5100.0      47.0     53.0  5151.0  \n",
       "2       68.0    5000.0      30.0     31.0  5195.0  \n",
       "3       62.0    4800.0      35.0     39.0  5348.0  \n",
       "4       68.0    5500.0      37.0     41.0  5389.0  \n",
       "\n",
       "[5 rows x 24 columns]"
      ]
     },
     "execution_count": 86,
     "metadata": {},
     "output_type": "execute_result"
    }
   ],
   "source": [
    "auto_imports.head()"
   ]
  },
  {
   "cell_type": "markdown",
   "metadata": {},
   "source": [
    "Price will be our DV. 23 potential IVs."
   ]
  },
  {
   "cell_type": "markdown",
   "metadata": {},
   "source": [
    "80% - training data\n",
    "20% - test data (prove model works well on unseen data)"
   ]
  },
  {
   "cell_type": "markdown",
   "metadata": {},
   "source": [
    "Create a new column, train-test, filled with zeroes and ones."
   ]
  },
  {
   "cell_type": "code",
   "execution_count": 104,
   "metadata": {},
   "outputs": [],
   "source": [
    "# from a uniform distribution, creates a random array of numbers.\n",
    "# The number of numbers created is the size of the dataframe\n",
    "x = np.random.rand(auto_imports.shape[0], 1)\n",
    "auto_imports['test_train'] = x"
   ]
  },
  {
   "cell_type": "markdown",
   "metadata": {},
   "source": [
    "### Let's set up the Stepwise Regression"
   ]
  },
  {
   "cell_type": "code",
   "execution_count": 107,
   "metadata": {},
   "outputs": [],
   "source": [
    "# Build the model using only 80% of the data. This is inherently exploratory.\n",
    "# Bring in only scalar variables.\n",
    "# Identify the best predictor. Bring it in. Then, bring in the next. Then, the next. Until we can no longer bring in\n",
    "#  statistically significant variables."
   ]
  },
  {
   "cell_type": "code",
   "execution_count": 218,
   "metadata": {},
   "outputs": [],
   "source": [
    "# Source : Trevor Smith and Aaron Schumacher @ https://planspace.org/20150423-forward_selection_with_statsmodels/\n",
    "def forward_selected(data, response, independent_variables):\n",
    "    \"\"\"Linear model designed by forward selection.\n",
    "\n",
    "    Parameters:\n",
    "    -----------\n",
    "    data : pandas DataFrame with all possible predictors and response\n",
    "\n",
    "    response: string, name of response column in data\n",
    "\n",
    "    Returns:\n",
    "    --------\n",
    "    model: an \"optimal\" fitted statsmodels linear model\n",
    "           with an intercept\n",
    "           selected by forward selection\n",
    "           evaluated by adjusted R-squared\n",
    "    \"\"\"\n",
    "    remaining = set(independent_variables)\n",
    "    print(remaining)\n",
    "    remaining.remove(response)\n",
    "    selected = []\n",
    "    current_score, best_new_score = 0.0, 0.0\n",
    "    while remaining and current_score == best_new_score:\n",
    "        scores_with_candidates = []\n",
    "        for candidate in remaining:\n",
    "            formula = \"{} ~ {} + 1\".format(response,\n",
    "                                           ' + '.join(selected + [candidate]))\n",
    "            print(formula)\n",
    "            score = ols(formula, data).fit().rsquared_adj\n",
    "            scores_with_candidates.append((score, candidate))\n",
    "        scores_with_candidates.sort()\n",
    "        best_new_score, best_candidate = scores_with_candidates.pop()\n",
    "        if current_score < best_new_score:\n",
    "            remaining.remove(best_candidate)\n",
    "            selected.append(best_candidate)\n",
    "            current_score = best_new_score\n",
    "    formula = \"{} ~ {} + 1\".format(response,\n",
    "                                   ' + '.join(selected))\n",
    "    model = ols(formula, data).fit()\n",
    "    return model"
   ]
  },
  {
   "cell_type": "code",
   "execution_count": 220,
   "metadata": {},
   "outputs": [
    {
     "name": "stdout",
     "output_type": "stream",
     "text": [
      "{'wheel_base', 'peak_rpm', 'price', 'horsepower', 'weight', 'height', 'bore', 'city_mpg', 'comp_ratio', 'width', 'length', 'stroke', 'engine_size', 'hwy_mpg'}\n",
      "price ~ wheel_base + 1\n",
      "price ~ peak_rpm + 1\n",
      "price ~ horsepower + 1\n",
      "price ~ weight + 1\n",
      "price ~ height + 1\n",
      "price ~ bore + 1\n",
      "price ~ city_mpg + 1\n",
      "price ~ comp_ratio + 1\n",
      "price ~ width + 1\n",
      "price ~ length + 1\n",
      "price ~ stroke + 1\n",
      "price ~ engine_size + 1\n",
      "price ~ hwy_mpg + 1\n",
      "price ~ engine_size + wheel_base + 1\n",
      "price ~ engine_size + peak_rpm + 1\n",
      "price ~ engine_size + horsepower + 1\n",
      "price ~ engine_size + weight + 1\n",
      "price ~ engine_size + height + 1\n",
      "price ~ engine_size + bore + 1\n",
      "price ~ engine_size + city_mpg + 1\n",
      "price ~ engine_size + comp_ratio + 1\n",
      "price ~ engine_size + width + 1\n",
      "price ~ engine_size + length + 1\n",
      "price ~ engine_size + stroke + 1\n",
      "price ~ engine_size + hwy_mpg + 1\n",
      "price ~ engine_size + stroke + wheel_base + 1\n",
      "price ~ engine_size + stroke + peak_rpm + 1\n",
      "price ~ engine_size + stroke + horsepower + 1\n",
      "price ~ engine_size + stroke + weight + 1\n",
      "price ~ engine_size + stroke + height + 1\n",
      "price ~ engine_size + stroke + bore + 1\n",
      "price ~ engine_size + stroke + city_mpg + 1\n",
      "price ~ engine_size + stroke + comp_ratio + 1\n",
      "price ~ engine_size + stroke + width + 1\n",
      "price ~ engine_size + stroke + length + 1\n",
      "price ~ engine_size + stroke + hwy_mpg + 1\n",
      "price ~ engine_size + stroke + width + wheel_base + 1\n",
      "price ~ engine_size + stroke + width + peak_rpm + 1\n",
      "price ~ engine_size + stroke + width + horsepower + 1\n",
      "price ~ engine_size + stroke + width + weight + 1\n",
      "price ~ engine_size + stroke + width + height + 1\n",
      "price ~ engine_size + stroke + width + bore + 1\n",
      "price ~ engine_size + stroke + width + city_mpg + 1\n",
      "price ~ engine_size + stroke + width + comp_ratio + 1\n",
      "price ~ engine_size + stroke + width + length + 1\n",
      "price ~ engine_size + stroke + width + hwy_mpg + 1\n",
      "price ~ engine_size + stroke + width + peak_rpm + wheel_base + 1\n",
      "price ~ engine_size + stroke + width + peak_rpm + horsepower + 1\n",
      "price ~ engine_size + stroke + width + peak_rpm + weight + 1\n",
      "price ~ engine_size + stroke + width + peak_rpm + height + 1\n",
      "price ~ engine_size + stroke + width + peak_rpm + bore + 1\n",
      "price ~ engine_size + stroke + width + peak_rpm + city_mpg + 1\n",
      "price ~ engine_size + stroke + width + peak_rpm + comp_ratio + 1\n",
      "price ~ engine_size + stroke + width + peak_rpm + length + 1\n",
      "price ~ engine_size + stroke + width + peak_rpm + hwy_mpg + 1\n",
      "price ~ engine_size + stroke + width + peak_rpm + comp_ratio + wheel_base + 1\n",
      "price ~ engine_size + stroke + width + peak_rpm + comp_ratio + horsepower + 1\n",
      "price ~ engine_size + stroke + width + peak_rpm + comp_ratio + weight + 1\n",
      "price ~ engine_size + stroke + width + peak_rpm + comp_ratio + height + 1\n",
      "price ~ engine_size + stroke + width + peak_rpm + comp_ratio + bore + 1\n",
      "price ~ engine_size + stroke + width + peak_rpm + comp_ratio + city_mpg + 1\n",
      "price ~ engine_size + stroke + width + peak_rpm + comp_ratio + length + 1\n",
      "price ~ engine_size + stroke + width + peak_rpm + comp_ratio + hwy_mpg + 1\n",
      "price ~ engine_size + stroke + width + peak_rpm + comp_ratio + horsepower + wheel_base + 1\n",
      "price ~ engine_size + stroke + width + peak_rpm + comp_ratio + horsepower + weight + 1\n",
      "price ~ engine_size + stroke + width + peak_rpm + comp_ratio + horsepower + height + 1\n",
      "price ~ engine_size + stroke + width + peak_rpm + comp_ratio + horsepower + bore + 1\n",
      "price ~ engine_size + stroke + width + peak_rpm + comp_ratio + horsepower + city_mpg + 1\n",
      "price ~ engine_size + stroke + width + peak_rpm + comp_ratio + horsepower + length + 1\n",
      "price ~ engine_size + stroke + width + peak_rpm + comp_ratio + horsepower + hwy_mpg + 1\n",
      "price ~ engine_size + stroke + width + peak_rpm + comp_ratio + horsepower + height + wheel_base + 1\n",
      "price ~ engine_size + stroke + width + peak_rpm + comp_ratio + horsepower + height + weight + 1\n",
      "price ~ engine_size + stroke + width + peak_rpm + comp_ratio + horsepower + height + bore + 1\n",
      "price ~ engine_size + stroke + width + peak_rpm + comp_ratio + horsepower + height + city_mpg + 1\n",
      "price ~ engine_size + stroke + width + peak_rpm + comp_ratio + horsepower + height + length + 1\n",
      "price ~ engine_size + stroke + width + peak_rpm + comp_ratio + horsepower + height + hwy_mpg + 1\n"
     ]
    }
   ],
   "source": [
    "# can remove the print statements to avoid seeing the model development\n",
    "linear_model = forward_selected(auto_imports, 'price', ['price', 'wheel_base' , 'length', 'width','height', 'weight', \n",
    "                                                        'engine_size', 'bore', 'stroke','comp_ratio', 'horsepower',\n",
    "                                                       'peak_rpm','city_mpg','hwy_mpg'])"
   ]
  },
  {
   "cell_type": "code",
   "execution_count": 221,
   "metadata": {},
   "outputs": [
    {
     "data": {
      "text/html": [
       "<table class=\"simpletable\">\n",
       "<caption>OLS Regression Results</caption>\n",
       "<tr>\n",
       "  <th>Dep. Variable:</th>          <td>price</td>      <th>  R-squared:         </th> <td>   0.853</td>\n",
       "</tr>\n",
       "<tr>\n",
       "  <th>Model:</th>                   <td>OLS</td>       <th>  Adj. R-squared:    </th> <td>   0.847</td>\n",
       "</tr>\n",
       "<tr>\n",
       "  <th>Method:</th>             <td>Least Squares</td>  <th>  F-statistic:       </th> <td>   154.5</td>\n",
       "</tr>\n",
       "<tr>\n",
       "  <th>Date:</th>             <td>Tue, 12 Jan 2021</td> <th>  Prob (F-statistic):</th> <td>3.25e-74</td>\n",
       "</tr>\n",
       "<tr>\n",
       "  <th>Time:</th>                 <td>20:08:26</td>     <th>  Log-Likelihood:    </th> <td> -1843.4</td>\n",
       "</tr>\n",
       "<tr>\n",
       "  <th>No. Observations:</th>      <td>   195</td>      <th>  AIC:               </th> <td>   3703.</td>\n",
       "</tr>\n",
       "<tr>\n",
       "  <th>Df Residuals:</th>          <td>   187</td>      <th>  BIC:               </th> <td>   3729.</td>\n",
       "</tr>\n",
       "<tr>\n",
       "  <th>Df Model:</th>              <td>     7</td>      <th>                     </th>     <td> </td>   \n",
       "</tr>\n",
       "<tr>\n",
       "  <th>Covariance Type:</th>      <td>nonrobust</td>    <th>                     </th>     <td> </td>   \n",
       "</tr>\n",
       "</table>\n",
       "<table class=\"simpletable\">\n",
       "<tr>\n",
       "       <td></td>          <th>coef</th>     <th>std err</th>      <th>t</th>      <th>P>|t|</th>  <th>[0.025</th>    <th>0.975]</th>  \n",
       "</tr>\n",
       "<tr>\n",
       "  <th>Intercept</th>   <td>-6.397e+04</td> <td> 1.11e+04</td> <td>   -5.770</td> <td> 0.000</td> <td>-8.58e+04</td> <td>-4.21e+04</td>\n",
       "</tr>\n",
       "<tr>\n",
       "  <th>engine_size</th> <td>  128.5664</td> <td>   13.798</td> <td>    9.318</td> <td> 0.000</td> <td>  101.347</td> <td>  155.786</td>\n",
       "</tr>\n",
       "<tr>\n",
       "  <th>stroke</th>      <td>-2675.3293</td> <td>  766.037</td> <td>   -3.492</td> <td> 0.001</td> <td>-4186.514</td> <td>-1164.145</td>\n",
       "</tr>\n",
       "<tr>\n",
       "  <th>width</th>       <td>  556.2556</td> <td>  180.547</td> <td>    3.081</td> <td> 0.002</td> <td>  200.084</td> <td>  912.427</td>\n",
       "</tr>\n",
       "<tr>\n",
       "  <th>peak_rpm</th>    <td>    2.1686</td> <td>    0.628</td> <td>    3.453</td> <td> 0.001</td> <td>    0.930</td> <td>    3.408</td>\n",
       "</tr>\n",
       "<tr>\n",
       "  <th>comp_ratio</th>  <td>  241.3902</td> <td>   67.712</td> <td>    3.565</td> <td> 0.000</td> <td>  107.813</td> <td>  374.968</td>\n",
       "</tr>\n",
       "<tr>\n",
       "  <th>horsepower</th>  <td>   41.1090</td> <td>   14.058</td> <td>    2.924</td> <td> 0.004</td> <td>   13.376</td> <td>   68.842</td>\n",
       "</tr>\n",
       "<tr>\n",
       "  <th>height</th>      <td>  279.3962</td> <td>  109.567</td> <td>    2.550</td> <td> 0.012</td> <td>   63.249</td> <td>  495.543</td>\n",
       "</tr>\n",
       "</table>\n",
       "<table class=\"simpletable\">\n",
       "<tr>\n",
       "  <th>Omnibus:</th>       <td>19.413</td> <th>  Durbin-Watson:     </th> <td>   1.704</td>\n",
       "</tr>\n",
       "<tr>\n",
       "  <th>Prob(Omnibus):</th> <td> 0.000</td> <th>  Jarque-Bera (JB):  </th> <td>  70.156</td>\n",
       "</tr>\n",
       "<tr>\n",
       "  <th>Skew:</th>          <td> 0.175</td> <th>  Prob(JB):          </th> <td>5.83e-16</td>\n",
       "</tr>\n",
       "<tr>\n",
       "  <th>Kurtosis:</th>      <td> 5.918</td> <th>  Cond. No.          </th> <td>2.52e+05</td>\n",
       "</tr>\n",
       "</table><br/><br/>Warnings:<br/>[1] Standard Errors assume that the covariance matrix of the errors is correctly specified.<br/>[2] The condition number is large, 2.52e+05. This might indicate that there are<br/>strong multicollinearity or other numerical problems."
      ],
      "text/plain": [
       "<class 'statsmodels.iolib.summary.Summary'>\n",
       "\"\"\"\n",
       "                            OLS Regression Results                            \n",
       "==============================================================================\n",
       "Dep. Variable:                  price   R-squared:                       0.853\n",
       "Model:                            OLS   Adj. R-squared:                  0.847\n",
       "Method:                 Least Squares   F-statistic:                     154.5\n",
       "Date:                Tue, 12 Jan 2021   Prob (F-statistic):           3.25e-74\n",
       "Time:                        20:08:26   Log-Likelihood:                -1843.4\n",
       "No. Observations:                 195   AIC:                             3703.\n",
       "Df Residuals:                     187   BIC:                             3729.\n",
       "Df Model:                           7                                         \n",
       "Covariance Type:            nonrobust                                         \n",
       "===============================================================================\n",
       "                  coef    std err          t      P>|t|      [0.025      0.975]\n",
       "-------------------------------------------------------------------------------\n",
       "Intercept   -6.397e+04   1.11e+04     -5.770      0.000   -8.58e+04   -4.21e+04\n",
       "engine_size   128.5664     13.798      9.318      0.000     101.347     155.786\n",
       "stroke      -2675.3293    766.037     -3.492      0.001   -4186.514   -1164.145\n",
       "width         556.2556    180.547      3.081      0.002     200.084     912.427\n",
       "peak_rpm        2.1686      0.628      3.453      0.001       0.930       3.408\n",
       "comp_ratio    241.3902     67.712      3.565      0.000     107.813     374.968\n",
       "horsepower     41.1090     14.058      2.924      0.004      13.376      68.842\n",
       "height        279.3962    109.567      2.550      0.012      63.249     495.543\n",
       "==============================================================================\n",
       "Omnibus:                       19.413   Durbin-Watson:                   1.704\n",
       "Prob(Omnibus):                  0.000   Jarque-Bera (JB):               70.156\n",
       "Skew:                           0.175   Prob(JB):                     5.83e-16\n",
       "Kurtosis:                       5.918   Cond. No.                     2.52e+05\n",
       "==============================================================================\n",
       "\n",
       "Warnings:\n",
       "[1] Standard Errors assume that the covariance matrix of the errors is correctly specified.\n",
       "[2] The condition number is large, 2.52e+05. This might indicate that there are\n",
       "strong multicollinearity or other numerical problems.\n",
       "\"\"\""
      ]
     },
     "execution_count": 221,
     "metadata": {},
     "output_type": "execute_result"
    }
   ],
   "source": [
    "# pay attention to the coefficients table\n",
    "linear_model.summary()"
   ]
  },
  {
   "cell_type": "markdown",
   "metadata": {},
   "source": [
    "If we're focused on predictability, we can step-wise regression here."
   ]
  },
  {
   "cell_type": "markdown",
   "metadata": {},
   "source": [
    "Don't use stepwise regression if you want to tell people that certain variables are important and that others are not important. You should do simultaneous or hierarchical. Use step-wise when you're not going to produce an academic research paper or go to a conference."
   ]
  },
  {
   "cell_type": "markdown",
   "metadata": {},
   "source": [
    "We only care about the final model."
   ]
  }
 ],
 "metadata": {
  "kernelspec": {
   "display_name": "Python 3",
   "language": "python",
   "name": "python3"
  },
  "language_info": {
   "codemirror_mode": {
    "name": "ipython",
    "version": 3
   },
   "file_extension": ".py",
   "mimetype": "text/x-python",
   "name": "python",
   "nbconvert_exporter": "python",
   "pygments_lexer": "ipython3",
   "version": "3.7.6"
  }
 },
 "nbformat": 4,
 "nbformat_minor": 4
}
